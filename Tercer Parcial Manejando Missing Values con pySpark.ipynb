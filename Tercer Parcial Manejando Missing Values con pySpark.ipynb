{
 "cells": [
  {
   "cell_type": "markdown",
   "id": "8e1a2998",
   "metadata": {},
   "source": [
    "# Importacion de librerias"
   ]
  },
  {
   "cell_type": "code",
   "execution_count": 1,
   "id": "bdb2a157",
   "metadata": {},
   "outputs": [],
   "source": [
    "from pyspark.sql import SparkSession\n"
   ]
  },
  {
   "cell_type": "markdown",
   "id": "060c8297",
   "metadata": {},
   "source": [
    "## Creando Sesion de spark con nombre Practica"
   ]
  },
  {
   "cell_type": "code",
   "execution_count": 3,
   "id": "44ff1f56",
   "metadata": {},
   "outputs": [],
   "source": [
    "spark = SparkSession.builder.appName('Practice').getOrCreate()"
   ]
  },
  {
   "cell_type": "markdown",
   "id": "61c826d3",
   "metadata": {},
   "source": [
    "## Leer el archivo adult.csv sin encabezado e infiriendo el esquema "
   ]
  },
  {
   "cell_type": "code",
   "execution_count": 4,
   "id": "7f23e4a6",
   "metadata": {},
   "outputs": [],
   "source": [
    "df_pyspark = spark.read.option('header','false').csv('adult.csv',inferSchema=True)"
   ]
  },
  {
   "cell_type": "code",
   "execution_count": 5,
   "id": "4c21c246",
   "metadata": {},
   "outputs": [
    {
     "name": "stdout",
     "output_type": "stream",
     "text": [
      "+---+----------------+------+------------+---+--------------------+-----------------+-------------+------------------+------+-----+----+----+-------------+-----+\n",
      "|_c0|             _c1|   _c2|         _c3|_c4|                 _c5|              _c6|          _c7|               _c8|   _c9| _c10|_c11|_c12|         _c13| _c14|\n",
      "+---+----------------+------+------------+---+--------------------+-----------------+-------------+------------------+------+-----+----+----+-------------+-----+\n",
      "| 39|       State-gov| 77516|   Bachelors| 13|       Never-married|     Adm-clerical|Not-in-family|             White|  Male| 2174|   0|  40|United-States|<=50K|\n",
      "| 50|Self-emp-not-inc| 83311|   Bachelors| 13|  Married-civ-spouse|  Exec-managerial|      Husband|             White|  Male|    0|   0|  13|United-States|<=50K|\n",
      "| 38|         Private|215646|     HS-grad|  9|            Divorced|Handlers-cleaners|Not-in-family|             White|  Male|    0|   0|  40|United-States|<=50K|\n",
      "| 53|         Private|234721|        11th|  7|  Married-civ-spouse|Handlers-cleaners|      Husband|             Black|  Male|    0|   0|  40|United-States|<=50K|\n",
      "| 28|         Private|338409|   Bachelors| 13|  Married-civ-spouse|   Prof-specialty|         Wife|             Black|Female|    0|   0|  40|         Cuba|<=50K|\n",
      "| 37|         Private|284582|     Masters| 14|  Married-civ-spouse|  Exec-managerial|         Wife|             White|Female|    0|   0|  40|United-States|<=50K|\n",
      "| 49|         Private|160187|         9th|  5|Married-spouse-ab...|    Other-service|Not-in-family|             Black|Female|    0|   0|  16|      Jamaica|<=50K|\n",
      "| 52|Self-emp-not-inc|209642|     HS-grad|  9|  Married-civ-spouse|  Exec-managerial|      Husband|             White|  Male|    0|   0|  45|United-States| >50K|\n",
      "| 31|         Private| 45781|     Masters| 14|       Never-married|   Prof-specialty|Not-in-family|             White|Female|14084|   0|  50|United-States| >50K|\n",
      "| 42|         Private|159449|   Bachelors| 13|  Married-civ-spouse|  Exec-managerial|      Husband|             White|  Male| 5178|   0|  40|United-States| >50K|\n",
      "| 37|         Private|280464|Some-college| 10|  Married-civ-spouse|  Exec-managerial|      Husband|             Black|  Male|    0|   0|  80|United-States| >50K|\n",
      "| 30|       State-gov|141297|   Bachelors| 13|  Married-civ-spouse|   Prof-specialty|      Husband|Asian-Pac-Islander|  Male|    0|   0|  40|        India| >50K|\n",
      "| 23|         Private|122272|   Bachelors| 13|       Never-married|     Adm-clerical|    Own-child|             White|Female|    0|   0|  30|United-States|<=50K|\n",
      "| 32|         Private|205019|  Assoc-acdm| 12|       Never-married|            Sales|Not-in-family|             Black|  Male|    0|   0|  50|United-States|<=50K|\n",
      "| 40|         Private|121772|   Assoc-voc| 11|  Married-civ-spouse|     Craft-repair|      Husband|Asian-Pac-Islander|  Male|    0|   0|  40|         null| >50K|\n",
      "+---+----------------+------+------------+---+--------------------+-----------------+-------------+------------------+------+-----+----+----+-------------+-----+\n",
      "only showing top 15 rows\n",
      "\n"
     ]
    }
   ],
   "source": [
    "df_pyspark.show(15)"
   ]
  },
  {
   "cell_type": "markdown",
   "id": "53ab529e",
   "metadata": {},
   "source": [
    "## Definiendo un encabezado para el df"
   ]
  },
  {
   "cell_type": "code",
   "execution_count": 6,
   "id": "de73c6cd",
   "metadata": {},
   "outputs": [],
   "source": [
    "df_pyspark= df_pyspark.toDF(*(\"age\",\"workclass\",\"fnlwgt\",\"education\",\"educationNum\",\"maritalStatus\",\"occupation\",\"relationship\",\"race\",\"sex\",\"capitalGain\",\"capitalLoss\",\"hoursPerWeek\",\"nativeCountry\",\"Mayor\"))"
   ]
  },
  {
   "cell_type": "markdown",
   "id": "1e4412d2",
   "metadata": {},
   "source": [
    "## Imprimir el esquema inferido"
   ]
  },
  {
   "cell_type": "code",
   "execution_count": 7,
   "id": "901b4fd0",
   "metadata": {},
   "outputs": [
    {
     "name": "stdout",
     "output_type": "stream",
     "text": [
      "root\n",
      " |-- age: integer (nullable = true)\n",
      " |-- workclass: string (nullable = true)\n",
      " |-- fnlwgt: integer (nullable = true)\n",
      " |-- education: string (nullable = true)\n",
      " |-- educationNum: integer (nullable = true)\n",
      " |-- maritalStatus: string (nullable = true)\n",
      " |-- occupation: string (nullable = true)\n",
      " |-- relationship: string (nullable = true)\n",
      " |-- race: string (nullable = true)\n",
      " |-- sex: string (nullable = true)\n",
      " |-- capitalGain: integer (nullable = true)\n",
      " |-- capitalLoss: integer (nullable = true)\n",
      " |-- hoursPerWeek: integer (nullable = true)\n",
      " |-- nativeCountry: string (nullable = true)\n",
      " |-- Mayor: string (nullable = true)\n",
      "\n"
     ]
    }
   ],
   "source": [
    "df_pyspark.printSchema()"
   ]
  },
  {
   "cell_type": "code",
   "execution_count": 8,
   "id": "374755f1",
   "metadata": {},
   "outputs": [
    {
     "name": "stdout",
     "output_type": "stream",
     "text": [
      "+---+----------------+------+------------+------------+--------------------+-----------------+-------------+------------------+------+-----------+-----------+------------+-------------+-----+\n",
      "|age|       workclass|fnlwgt|   education|educationNum|       maritalStatus|       occupation| relationship|              race|   sex|capitalGain|capitalLoss|hoursPerWeek|nativeCountry|Mayor|\n",
      "+---+----------------+------+------------+------------+--------------------+-----------------+-------------+------------------+------+-----------+-----------+------------+-------------+-----+\n",
      "| 39|       State-gov| 77516|   Bachelors|          13|       Never-married|     Adm-clerical|Not-in-family|             White|  Male|       2174|          0|          40|United-States|<=50K|\n",
      "| 50|Self-emp-not-inc| 83311|   Bachelors|          13|  Married-civ-spouse|  Exec-managerial|      Husband|             White|  Male|          0|          0|          13|United-States|<=50K|\n",
      "| 38|         Private|215646|     HS-grad|           9|            Divorced|Handlers-cleaners|Not-in-family|             White|  Male|          0|          0|          40|United-States|<=50K|\n",
      "| 53|         Private|234721|        11th|           7|  Married-civ-spouse|Handlers-cleaners|      Husband|             Black|  Male|          0|          0|          40|United-States|<=50K|\n",
      "| 28|         Private|338409|   Bachelors|          13|  Married-civ-spouse|   Prof-specialty|         Wife|             Black|Female|          0|          0|          40|         Cuba|<=50K|\n",
      "| 37|         Private|284582|     Masters|          14|  Married-civ-spouse|  Exec-managerial|         Wife|             White|Female|          0|          0|          40|United-States|<=50K|\n",
      "| 49|         Private|160187|         9th|           5|Married-spouse-ab...|    Other-service|Not-in-family|             Black|Female|          0|          0|          16|      Jamaica|<=50K|\n",
      "| 52|Self-emp-not-inc|209642|     HS-grad|           9|  Married-civ-spouse|  Exec-managerial|      Husband|             White|  Male|          0|          0|          45|United-States| >50K|\n",
      "| 31|         Private| 45781|     Masters|          14|       Never-married|   Prof-specialty|Not-in-family|             White|Female|      14084|          0|          50|United-States| >50K|\n",
      "| 42|         Private|159449|   Bachelors|          13|  Married-civ-spouse|  Exec-managerial|      Husband|             White|  Male|       5178|          0|          40|United-States| >50K|\n",
      "| 37|         Private|280464|Some-college|          10|  Married-civ-spouse|  Exec-managerial|      Husband|             Black|  Male|          0|          0|          80|United-States| >50K|\n",
      "| 30|       State-gov|141297|   Bachelors|          13|  Married-civ-spouse|   Prof-specialty|      Husband|Asian-Pac-Islander|  Male|          0|          0|          40|        India| >50K|\n",
      "| 23|         Private|122272|   Bachelors|          13|       Never-married|     Adm-clerical|    Own-child|             White|Female|          0|          0|          30|United-States|<=50K|\n",
      "| 32|         Private|205019|  Assoc-acdm|          12|       Never-married|            Sales|Not-in-family|             Black|  Male|          0|          0|          50|United-States|<=50K|\n",
      "| 40|         Private|121772|   Assoc-voc|          11|  Married-civ-spouse|     Craft-repair|      Husband|Asian-Pac-Islander|  Male|          0|          0|          40|         null| >50K|\n",
      "| 34|         Private|245487|     7th-8th|           4|  Married-civ-spouse| Transport-moving|      Husband|Amer-Indian-Eskimo|  Male|          0|          0|          45|       Mexico|<=50K|\n",
      "| 25|Self-emp-not-inc|176756|     HS-grad|           9|       Never-married|  Farming-fishing|    Own-child|             White|  Male|          0|          0|          35|United-States|<=50K|\n",
      "| 32|         Private|186824|     HS-grad|           9|       Never-married|Machine-op-inspct|    Unmarried|             White|  Male|          0|          0|          40|United-States|<=50K|\n",
      "| 38|         Private| 28887|        11th|           7|  Married-civ-spouse|            Sales|      Husband|             White|  Male|          0|          0|          50|United-States|<=50K|\n",
      "| 43|Self-emp-not-inc|292175|     Masters|          14|            Divorced|  Exec-managerial|    Unmarried|             White|Female|          0|          0|          45|United-States| >50K|\n",
      "+---+----------------+------+------------+------------+--------------------+-----------------+-------------+------------------+------+-----------+-----------+------------+-------------+-----+\n",
      "only showing top 20 rows\n",
      "\n"
     ]
    }
   ],
   "source": [
    "df_pyspark.show()"
   ]
  },
  {
   "cell_type": "markdown",
   "id": "489aaac7",
   "metadata": {},
   "source": [
    "## Crear un df sin ningun dato nulo "
   ]
  },
  {
   "cell_type": "code",
   "execution_count": 12,
   "id": "f6788a53",
   "metadata": {},
   "outputs": [],
   "source": [
    "df_pyspark_DropNA_any= df_pyspark.na.drop(how='any')"
   ]
  },
  {
   "cell_type": "code",
   "execution_count": 13,
   "id": "29e7832f",
   "metadata": {},
   "outputs": [
    {
     "name": "stdout",
     "output_type": "stream",
     "text": [
      "+---+----------------+------+------------+------------+--------------------+-----------------+-------------+------------------+------+-----------+-----------+------------+-------------+-----+\n",
      "|age|       workclass|fnlwgt|   education|educationNum|       maritalStatus|       occupation| relationship|              race|   sex|capitalGain|capitalLoss|hoursPerWeek|nativeCountry|Mayor|\n",
      "+---+----------------+------+------------+------------+--------------------+-----------------+-------------+------------------+------+-----------+-----------+------------+-------------+-----+\n",
      "| 39|       State-gov| 77516|   Bachelors|          13|       Never-married|     Adm-clerical|Not-in-family|             White|  Male|       2174|          0|          40|United-States|<=50K|\n",
      "| 50|Self-emp-not-inc| 83311|   Bachelors|          13|  Married-civ-spouse|  Exec-managerial|      Husband|             White|  Male|          0|          0|          13|United-States|<=50K|\n",
      "| 38|         Private|215646|     HS-grad|           9|            Divorced|Handlers-cleaners|Not-in-family|             White|  Male|          0|          0|          40|United-States|<=50K|\n",
      "| 53|         Private|234721|        11th|           7|  Married-civ-spouse|Handlers-cleaners|      Husband|             Black|  Male|          0|          0|          40|United-States|<=50K|\n",
      "| 28|         Private|338409|   Bachelors|          13|  Married-civ-spouse|   Prof-specialty|         Wife|             Black|Female|          0|          0|          40|         Cuba|<=50K|\n",
      "| 37|         Private|284582|     Masters|          14|  Married-civ-spouse|  Exec-managerial|         Wife|             White|Female|          0|          0|          40|United-States|<=50K|\n",
      "| 49|         Private|160187|         9th|           5|Married-spouse-ab...|    Other-service|Not-in-family|             Black|Female|          0|          0|          16|      Jamaica|<=50K|\n",
      "| 52|Self-emp-not-inc|209642|     HS-grad|           9|  Married-civ-spouse|  Exec-managerial|      Husband|             White|  Male|          0|          0|          45|United-States| >50K|\n",
      "| 31|         Private| 45781|     Masters|          14|       Never-married|   Prof-specialty|Not-in-family|             White|Female|      14084|          0|          50|United-States| >50K|\n",
      "| 42|         Private|159449|   Bachelors|          13|  Married-civ-spouse|  Exec-managerial|      Husband|             White|  Male|       5178|          0|          40|United-States| >50K|\n",
      "| 37|         Private|280464|Some-college|          10|  Married-civ-spouse|  Exec-managerial|      Husband|             Black|  Male|          0|          0|          80|United-States| >50K|\n",
      "| 30|       State-gov|141297|   Bachelors|          13|  Married-civ-spouse|   Prof-specialty|      Husband|Asian-Pac-Islander|  Male|          0|          0|          40|        India| >50K|\n",
      "| 23|         Private|122272|   Bachelors|          13|       Never-married|     Adm-clerical|    Own-child|             White|Female|          0|          0|          30|United-States|<=50K|\n",
      "| 32|         Private|205019|  Assoc-acdm|          12|       Never-married|            Sales|Not-in-family|             Black|  Male|          0|          0|          50|United-States|<=50K|\n",
      "| 34|         Private|245487|     7th-8th|           4|  Married-civ-spouse| Transport-moving|      Husband|Amer-Indian-Eskimo|  Male|          0|          0|          45|       Mexico|<=50K|\n",
      "| 25|Self-emp-not-inc|176756|     HS-grad|           9|       Never-married|  Farming-fishing|    Own-child|             White|  Male|          0|          0|          35|United-States|<=50K|\n",
      "| 32|         Private|186824|     HS-grad|           9|       Never-married|Machine-op-inspct|    Unmarried|             White|  Male|          0|          0|          40|United-States|<=50K|\n",
      "| 38|         Private| 28887|        11th|           7|  Married-civ-spouse|            Sales|      Husband|             White|  Male|          0|          0|          50|United-States|<=50K|\n",
      "| 43|Self-emp-not-inc|292175|     Masters|          14|            Divorced|  Exec-managerial|    Unmarried|             White|Female|          0|          0|          45|United-States| >50K|\n",
      "| 40|         Private|193524|   Doctorate|          16|  Married-civ-spouse|   Prof-specialty|      Husband|             White|  Male|          0|          0|          60|United-States| >50K|\n",
      "+---+----------------+------+------------+------------+--------------------+-----------------+-------------+------------------+------+-----------+-----------+------------+-------------+-----+\n",
      "only showing top 20 rows\n",
      "\n"
     ]
    }
   ],
   "source": [
    "df_pyspark_DropNA_any.show()"
   ]
  },
  {
   "cell_type": "markdown",
   "id": "3216ead0",
   "metadata": {},
   "source": [
    "## Contar total de datos en df y df sin datos nulos"
   ]
  },
  {
   "cell_type": "code",
   "execution_count": 15,
   "id": "e1e3500b",
   "metadata": {},
   "outputs": [
    {
     "data": {
      "text/plain": [
       "32561"
      ]
     },
     "execution_count": 15,
     "metadata": {},
     "output_type": "execute_result"
    }
   ],
   "source": [
    "df_pyspark.count()"
   ]
  },
  {
   "cell_type": "code",
   "execution_count": 16,
   "id": "5dec65c8",
   "metadata": {},
   "outputs": [
    {
     "data": {
      "text/plain": [
       "30162"
      ]
     },
     "execution_count": 16,
     "metadata": {},
     "output_type": "execute_result"
    }
   ],
   "source": [
    "df_pyspark_DropNA_any.count()"
   ]
  },
  {
   "cell_type": "markdown",
   "id": "217f7c2c",
   "metadata": {},
   "source": [
    "## Importacion de tras librerias \n"
   ]
  },
  {
   "cell_type": "code",
   "execution_count": 17,
   "id": "ed68b7f8",
   "metadata": {},
   "outputs": [],
   "source": [
    "from pyspark.sql.functions import col,isnan, when, count"
   ]
  },
  {
   "cell_type": "markdown",
   "id": "93d97224",
   "metadata": {},
   "source": [
    "## Definir una consulta para contar el total de datos nulos"
   ]
  },
  {
   "cell_type": "code",
   "execution_count": 18,
   "id": "0e089cf5",
   "metadata": {},
   "outputs": [
    {
     "name": "stdout",
     "output_type": "stream",
     "text": [
      "+---+---------+------+---------+------------+-------------+----------+------------+----+---+-----------+-----------+------------+-------------+-----+\n",
      "|age|workclass|fnlwgt|education|educationNum|maritalStatus|occupation|relationship|race|sex|capitalGain|capitalLoss|hoursPerWeek|nativeCountry|Mayor|\n",
      "+---+---------+------+---------+------------+-------------+----------+------------+----+---+-----------+-----------+------------+-------------+-----+\n",
      "|  0|     1836|     0|        0|           0|            0|      1843|           0|   0|  0|          0|          0|           0|          583|    0|\n",
      "+---+---------+------+---------+------------+-------------+----------+------------+----+---+-----------+-----------+------------+-------------+-----+\n",
      "\n"
     ]
    }
   ],
   "source": [
    "b = df_pyspark.select([count(when(col(c).contains('None') | \\\n",
    "                            col(c).contains('NULL') | \\\n",
    "                            (col(c) == '' ) | \\\n",
    "                            col(c).isNull() | \\\n",
    "                            isnan(c), c \n",
    "                           )).alias(c)\n",
    "                    for c in df_pyspark.columns])\n",
    "b.show()"
   ]
  },
  {
   "cell_type": "markdown",
   "id": "ca7906f5",
   "metadata": {},
   "source": [
    "## Transformar los datos nulos de la columna occupation por el dato \"No occupation\""
   ]
  },
  {
   "cell_type": "code",
   "execution_count": 29,
   "id": "7bc454b4",
   "metadata": {},
   "outputs": [],
   "source": [
    "df_pyspark_NoNull= df_pyspark.na.fill(\"No occupation\",['occupation'])"
   ]
  },
  {
   "cell_type": "code",
   "execution_count": 48,
   "id": "42a7113c",
   "metadata": {},
   "outputs": [
    {
     "name": "stdout",
     "output_type": "stream",
     "text": [
      "+---+----------------+------+------------+------------+--------------------+-----------------+--------------+------------------+------+-----------+-----------+------------+-----------------+-----+\n",
      "|age|       workclass|fnlwgt|   education|educationNum|       maritalStatus|       occupation|  relationship|              race|   sex|capitalGain|capitalLoss|hoursPerWeek|    nativeCountry|Mayor|\n",
      "+---+----------------+------+------------+------------+--------------------+-----------------+--------------+------------------+------+-----------+-----------+------------+-----------------+-----+\n",
      "| 39|       State-gov| 77516|   Bachelors|          13|       Never-married|     Adm-clerical| Not-in-family|             White|  Male|       2174|          0|          40|    United-States|<=50K|\n",
      "| 50|Self-emp-not-inc| 83311|   Bachelors|          13|  Married-civ-spouse|  Exec-managerial|       Husband|             White|  Male|          0|          0|          13|    United-States|<=50K|\n",
      "| 38|         Private|215646|     HS-grad|           9|            Divorced|Handlers-cleaners| Not-in-family|             White|  Male|          0|          0|          40|    United-States|<=50K|\n",
      "| 53|         Private|234721|        11th|           7|  Married-civ-spouse|Handlers-cleaners|       Husband|             Black|  Male|          0|          0|          40|    United-States|<=50K|\n",
      "| 28|         Private|338409|   Bachelors|          13|  Married-civ-spouse|   Prof-specialty|          Wife|             Black|Female|          0|          0|          40|             Cuba|<=50K|\n",
      "| 37|         Private|284582|     Masters|          14|  Married-civ-spouse|  Exec-managerial|          Wife|             White|Female|          0|          0|          40|    United-States|<=50K|\n",
      "| 49|         Private|160187|         9th|           5|Married-spouse-ab...|    Other-service| Not-in-family|             Black|Female|          0|          0|          16|          Jamaica|<=50K|\n",
      "| 52|Self-emp-not-inc|209642|     HS-grad|           9|  Married-civ-spouse|  Exec-managerial|       Husband|             White|  Male|          0|          0|          45|    United-States| >50K|\n",
      "| 31|         Private| 45781|     Masters|          14|       Never-married|   Prof-specialty| Not-in-family|             White|Female|      14084|          0|          50|    United-States| >50K|\n",
      "| 42|         Private|159449|   Bachelors|          13|  Married-civ-spouse|  Exec-managerial|       Husband|             White|  Male|       5178|          0|          40|    United-States| >50K|\n",
      "| 37|         Private|280464|Some-college|          10|  Married-civ-spouse|  Exec-managerial|       Husband|             Black|  Male|          0|          0|          80|    United-States| >50K|\n",
      "| 30|       State-gov|141297|   Bachelors|          13|  Married-civ-spouse|   Prof-specialty|       Husband|Asian-Pac-Islander|  Male|          0|          0|          40|            India| >50K|\n",
      "| 23|         Private|122272|   Bachelors|          13|       Never-married|     Adm-clerical|     Own-child|             White|Female|          0|          0|          30|    United-States|<=50K|\n",
      "| 32|         Private|205019|  Assoc-acdm|          12|       Never-married|            Sales| Not-in-family|             Black|  Male|          0|          0|          50|    United-States|<=50K|\n",
      "| 40|         Private|121772|   Assoc-voc|          11|  Married-civ-spouse|     Craft-repair|       Husband|Asian-Pac-Islander|  Male|          0|          0|          40|No country Native| >50K|\n",
      "| 34|         Private|245487|     7th-8th|           4|  Married-civ-spouse| Transport-moving|       Husband|Amer-Indian-Eskimo|  Male|          0|          0|          45|           Mexico|<=50K|\n",
      "| 25|Self-emp-not-inc|176756|     HS-grad|           9|       Never-married|  Farming-fishing|     Own-child|             White|  Male|          0|          0|          35|    United-States|<=50K|\n",
      "| 32|         Private|186824|     HS-grad|           9|       Never-married|Machine-op-inspct|     Unmarried|             White|  Male|          0|          0|          40|    United-States|<=50K|\n",
      "| 38|         Private| 28887|        11th|           7|  Married-civ-spouse|            Sales|       Husband|             White|  Male|          0|          0|          50|    United-States|<=50K|\n",
      "| 43|Self-emp-not-inc|292175|     Masters|          14|            Divorced|  Exec-managerial|     Unmarried|             White|Female|          0|          0|          45|    United-States| >50K|\n",
      "| 40|         Private|193524|   Doctorate|          16|  Married-civ-spouse|   Prof-specialty|       Husband|             White|  Male|          0|          0|          60|    United-States| >50K|\n",
      "| 54|         Private|302146|     HS-grad|           9|           Separated|    Other-service|     Unmarried|             Black|Female|          0|          0|          20|    United-States|<=50K|\n",
      "| 35|     Federal-gov| 76845|         9th|           5|  Married-civ-spouse|  Farming-fishing|       Husband|             Black|  Male|          0|          0|          40|    United-States|<=50K|\n",
      "| 43|         Private|117037|        11th|           7|  Married-civ-spouse| Transport-moving|       Husband|             White|  Male|          0|       2042|          40|    United-States|<=50K|\n",
      "| 59|         Private|109015|     HS-grad|           9|            Divorced|     Tech-support|     Unmarried|             White|Female|          0|          0|          40|    United-States|<=50K|\n",
      "| 56|       Local-gov|216851|   Bachelors|          13|  Married-civ-spouse|     Tech-support|       Husband|             White|  Male|          0|          0|          40|    United-States| >50K|\n",
      "| 19|         Private|168294|     HS-grad|           9|       Never-married|     Craft-repair|     Own-child|             White|  Male|          0|          0|          40|    United-States|<=50K|\n",
      "| 54|    No WorkClass|180211|Some-college|          10|  Married-civ-spouse|    No occupation|       Husband|Asian-Pac-Islander|  Male|          0|          0|          60|            South| >50K|\n",
      "| 39|         Private|367260|     HS-grad|           9|            Divorced|  Exec-managerial| Not-in-family|             White|  Male|          0|          0|          80|    United-States|<=50K|\n",
      "| 49|         Private|193366|     HS-grad|           9|  Married-civ-spouse|     Craft-repair|       Husband|             White|  Male|          0|          0|          40|    United-States|<=50K|\n",
      "| 23|       Local-gov|190709|  Assoc-acdm|          12|       Never-married|  Protective-serv| Not-in-family|             White|  Male|          0|          0|          52|    United-States|<=50K|\n",
      "| 20|         Private|266015|Some-college|          10|       Never-married|            Sales|     Own-child|             Black|  Male|          0|          0|          44|    United-States|<=50K|\n",
      "| 45|         Private|386940|   Bachelors|          13|            Divorced|  Exec-managerial|     Own-child|             White|  Male|          0|       1408|          40|    United-States|<=50K|\n",
      "| 30|     Federal-gov| 59951|Some-college|          10|  Married-civ-spouse|     Adm-clerical|     Own-child|             White|  Male|          0|          0|          40|    United-States|<=50K|\n",
      "| 22|       State-gov|311512|Some-college|          10|  Married-civ-spouse|    Other-service|       Husband|             Black|  Male|          0|          0|          15|    United-States|<=50K|\n",
      "| 48|         Private|242406|        11th|           7|       Never-married|Machine-op-inspct|     Unmarried|             White|  Male|          0|          0|          40|      Puerto-Rico|<=50K|\n",
      "| 21|         Private|197200|Some-college|          10|       Never-married|Machine-op-inspct|     Own-child|             White|  Male|          0|          0|          40|    United-States|<=50K|\n",
      "| 19|         Private|544091|     HS-grad|           9|   Married-AF-spouse|     Adm-clerical|          Wife|             White|Female|          0|          0|          25|    United-States|<=50K|\n",
      "| 31|         Private| 84154|Some-college|          10|  Married-civ-spouse|            Sales|       Husband|             White|  Male|          0|          0|          38|No country Native| >50K|\n",
      "| 48|Self-emp-not-inc|265477|  Assoc-acdm|          12|  Married-civ-spouse|   Prof-specialty|       Husband|             White|  Male|          0|          0|          40|    United-States|<=50K|\n",
      "| 31|         Private|507875|         9th|           5|  Married-civ-spouse|Machine-op-inspct|       Husband|             White|  Male|          0|          0|          43|    United-States|<=50K|\n",
      "| 53|Self-emp-not-inc| 88506|   Bachelors|          13|  Married-civ-spouse|   Prof-specialty|       Husband|             White|  Male|          0|          0|          40|    United-States|<=50K|\n",
      "| 24|         Private|172987|   Bachelors|          13|  Married-civ-spouse|     Tech-support|       Husband|             White|  Male|          0|          0|          50|    United-States|<=50K|\n",
      "| 49|         Private| 94638|     HS-grad|           9|           Separated|     Adm-clerical|     Unmarried|             White|Female|          0|          0|          40|    United-States|<=50K|\n",
      "| 25|         Private|289980|     HS-grad|           9|       Never-married|Handlers-cleaners| Not-in-family|             White|  Male|          0|          0|          35|    United-States|<=50K|\n",
      "| 57|     Federal-gov|337895|   Bachelors|          13|  Married-civ-spouse|   Prof-specialty|       Husband|             Black|  Male|          0|          0|          40|    United-States| >50K|\n",
      "| 53|         Private|144361|     HS-grad|           9|  Married-civ-spouse|Machine-op-inspct|       Husband|             White|  Male|          0|          0|          38|    United-States|<=50K|\n",
      "| 44|         Private|128354|     Masters|          14|            Divorced|  Exec-managerial|     Unmarried|             White|Female|          0|          0|          40|    United-States|<=50K|\n",
      "| 41|       State-gov|101603|   Assoc-voc|          11|  Married-civ-spouse|     Craft-repair|       Husband|             White|  Male|          0|          0|          40|    United-States|<=50K|\n",
      "| 29|         Private|271466|   Assoc-voc|          11|       Never-married|   Prof-specialty| Not-in-family|             White|  Male|          0|          0|          43|    United-States|<=50K|\n",
      "| 25|         Private| 32275|Some-college|          10|  Married-civ-spouse|  Exec-managerial|          Wife|             Other|Female|          0|          0|          40|    United-States|<=50K|\n",
      "| 18|         Private|226956|     HS-grad|           9|       Never-married|    Other-service|     Own-child|             White|Female|          0|          0|          30|No country Native|<=50K|\n",
      "| 47|         Private| 51835| Prof-school|          15|  Married-civ-spouse|   Prof-specialty|          Wife|             White|Female|          0|       1902|          60|         Honduras| >50K|\n",
      "| 50|     Federal-gov|251585|   Bachelors|          13|            Divorced|  Exec-managerial| Not-in-family|             White|  Male|          0|          0|          55|    United-States| >50K|\n",
      "| 47|    Self-emp-inc|109832|     HS-grad|           9|            Divorced|  Exec-managerial| Not-in-family|             White|  Male|          0|          0|          60|    United-States|<=50K|\n",
      "| 43|         Private|237993|Some-college|          10|  Married-civ-spouse|     Tech-support|       Husband|             White|  Male|          0|          0|          40|    United-States| >50K|\n",
      "| 46|         Private|216666|     5th-6th|           3|  Married-civ-spouse|Machine-op-inspct|       Husband|             White|  Male|          0|          0|          40|           Mexico|<=50K|\n",
      "| 35|         Private| 56352|   Assoc-voc|          11|  Married-civ-spouse|    Other-service|       Husband|             White|  Male|          0|          0|          40|      Puerto-Rico|<=50K|\n",
      "| 41|         Private|147372|     HS-grad|           9|  Married-civ-spouse|     Adm-clerical|       Husband|             White|  Male|          0|          0|          48|    United-States|<=50K|\n",
      "| 30|         Private|188146|     HS-grad|           9|  Married-civ-spouse|Machine-op-inspct|       Husband|             White|  Male|       5013|          0|          40|    United-States|<=50K|\n",
      "| 30|         Private| 59496|   Bachelors|          13|  Married-civ-spouse|            Sales|       Husband|             White|  Male|       2407|          0|          40|    United-States|<=50K|\n",
      "| 32|    No WorkClass|293936|     7th-8th|           4|Married-spouse-ab...|    No occupation| Not-in-family|             White|  Male|          0|          0|          40|No country Native|<=50K|\n",
      "| 48|         Private|149640|     HS-grad|           9|  Married-civ-spouse| Transport-moving|       Husband|             White|  Male|          0|          0|          40|    United-States|<=50K|\n",
      "| 42|         Private|116632|   Doctorate|          16|  Married-civ-spouse|   Prof-specialty|       Husband|             White|  Male|          0|          0|          45|    United-States| >50K|\n",
      "| 29|         Private|105598|Some-college|          10|            Divorced|     Tech-support| Not-in-family|             White|  Male|          0|          0|          58|    United-States|<=50K|\n",
      "| 36|         Private|155537|     HS-grad|           9|  Married-civ-spouse|     Craft-repair|       Husband|             White|  Male|          0|          0|          40|    United-States|<=50K|\n",
      "| 28|         Private|183175|Some-college|          10|            Divorced|     Adm-clerical| Not-in-family|             White|Female|          0|          0|          40|    United-States|<=50K|\n",
      "| 53|         Private|169846|     HS-grad|           9|  Married-civ-spouse|     Adm-clerical|          Wife|             White|Female|          0|          0|          40|    United-States| >50K|\n",
      "| 49|    Self-emp-inc|191681|Some-college|          10|  Married-civ-spouse|  Exec-managerial|       Husband|             White|  Male|          0|          0|          50|    United-States| >50K|\n",
      "| 25|    No WorkClass|200681|Some-college|          10|       Never-married|    No occupation|     Own-child|             White|  Male|          0|          0|          40|    United-States|<=50K|\n",
      "| 19|         Private|101509|Some-college|          10|       Never-married|   Prof-specialty|     Own-child|             White|  Male|          0|          0|          32|    United-States|<=50K|\n",
      "| 31|         Private|309974|   Bachelors|          13|           Separated|            Sales|     Own-child|             Black|Female|          0|          0|          40|    United-States|<=50K|\n",
      "| 29|Self-emp-not-inc|162298|   Bachelors|          13|  Married-civ-spouse|            Sales|       Husband|             White|  Male|          0|          0|          70|    United-States| >50K|\n",
      "| 23|         Private|211678|Some-college|          10|       Never-married|Machine-op-inspct| Not-in-family|             White|  Male|          0|          0|          40|    United-States|<=50K|\n",
      "| 79|         Private|124744|Some-college|          10|  Married-civ-spouse|   Prof-specialty|Other-relative|             White|  Male|          0|          0|          20|    United-States|<=50K|\n",
      "| 27|         Private|213921|     HS-grad|           9|       Never-married|    Other-service|     Own-child|             White|  Male|          0|          0|          40|           Mexico|<=50K|\n",
      "| 40|         Private| 32214|  Assoc-acdm|          12|  Married-civ-spouse|     Adm-clerical|       Husband|             White|  Male|          0|          0|          40|    United-States|<=50K|\n",
      "| 67|    No WorkClass|212759|        10th|           6|  Married-civ-spouse|    No occupation|       Husband|             White|  Male|          0|          0|           2|    United-States|<=50K|\n",
      "| 18|         Private|309634|        11th|           7|       Never-married|    Other-service|     Own-child|             White|Female|          0|          0|          22|    United-States|<=50K|\n",
      "| 31|       Local-gov|125927|     7th-8th|           4|  Married-civ-spouse|  Farming-fishing|       Husband|             White|  Male|          0|          0|          40|    United-States|<=50K|\n",
      "| 18|         Private|446839|     HS-grad|           9|       Never-married|            Sales| Not-in-family|             White|  Male|          0|          0|          30|    United-States|<=50K|\n",
      "| 52|         Private|276515|   Bachelors|          13|  Married-civ-spouse|    Other-service|       Husband|             White|  Male|          0|          0|          40|             Cuba|<=50K|\n",
      "| 46|         Private| 51618|     HS-grad|           9|  Married-civ-spouse|    Other-service|          Wife|             White|Female|          0|          0|          40|    United-States|<=50K|\n",
      "| 59|         Private|159937|     HS-grad|           9|  Married-civ-spouse|            Sales|       Husband|             White|  Male|          0|          0|          48|    United-States|<=50K|\n",
      "| 44|         Private|343591|     HS-grad|           9|            Divorced|     Craft-repair| Not-in-family|             White|Female|      14344|          0|          40|    United-States| >50K|\n",
      "| 53|         Private|346253|     HS-grad|           9|            Divorced|            Sales|     Own-child|             White|Female|          0|          0|          35|    United-States|<=50K|\n",
      "| 49|       Local-gov|268234|     HS-grad|           9|  Married-civ-spouse|  Protective-serv|       Husband|             White|  Male|          0|          0|          40|    United-States| >50K|\n",
      "| 33|         Private|202051|     Masters|          14|  Married-civ-spouse|   Prof-specialty|       Husband|             White|  Male|          0|          0|          50|    United-States|<=50K|\n",
      "| 30|         Private| 54334|         9th|           5|       Never-married|            Sales| Not-in-family|             White|  Male|          0|          0|          40|    United-States|<=50K|\n",
      "| 43|     Federal-gov|410867|   Doctorate|          16|       Never-married|   Prof-specialty| Not-in-family|             White|Female|          0|          0|          50|    United-States| >50K|\n",
      "| 57|         Private|249977|   Assoc-voc|          11|  Married-civ-spouse|   Prof-specialty|       Husband|             White|  Male|          0|          0|          40|    United-States|<=50K|\n",
      "| 37|         Private|286730|Some-college|          10|            Divorced|     Craft-repair|     Unmarried|             White|Female|          0|          0|          40|    United-States|<=50K|\n",
      "| 28|         Private|212563|Some-college|          10|            Divorced|Machine-op-inspct|     Unmarried|             Black|Female|          0|          0|          25|    United-States|<=50K|\n",
      "| 30|         Private|117747|     HS-grad|           9|  Married-civ-spouse|            Sales|          Wife|Asian-Pac-Islander|Female|          0|       1573|          35|No country Native|<=50K|\n",
      "| 34|       Local-gov|226296|   Bachelors|          13|  Married-civ-spouse|  Protective-serv|       Husband|             White|  Male|          0|          0|          40|    United-States| >50K|\n",
      "| 29|       Local-gov|115585|Some-college|          10|       Never-married|Handlers-cleaners| Not-in-family|             White|  Male|          0|          0|          50|    United-States|<=50K|\n",
      "| 48|Self-emp-not-inc|191277|   Doctorate|          16|  Married-civ-spouse|   Prof-specialty|       Husband|             White|  Male|          0|       1902|          60|    United-States| >50K|\n",
      "| 37|         Private|202683|Some-college|          10|  Married-civ-spouse|            Sales|       Husband|             White|  Male|          0|          0|          48|    United-States| >50K|\n",
      "| 48|         Private|171095|  Assoc-acdm|          12|            Divorced|  Exec-managerial|     Unmarried|             White|Female|          0|          0|          40|          England|<=50K|\n",
      "| 32|     Federal-gov|249409|     HS-grad|           9|       Never-married|    Other-service|     Own-child|             Black|  Male|          0|          0|          40|    United-States|<=50K|\n",
      "+---+----------------+------+------------+------------+--------------------+-----------------+--------------+------------------+------+-----------+-----------+------------+-----------------+-----+\n",
      "only showing top 100 rows\n",
      "\n"
     ]
    }
   ],
   "source": [
    "df_pyspark_NoNull.show(100)"
   ]
  },
  {
   "cell_type": "markdown",
   "id": "78df3336",
   "metadata": {},
   "source": [
    "## Transformar los datos nulos de la columna nativeCountry por el dato \"No country  native\""
   ]
  },
  {
   "cell_type": "code",
   "execution_count": 31,
   "id": "18a6f1e1",
   "metadata": {},
   "outputs": [],
   "source": [
    "df_pyspark_NoNull= df_pyspark_NoNull.na.fill(\"No country Native\",['nativeCountry'])"
   ]
  },
  {
   "cell_type": "code",
   "execution_count": 49,
   "id": "a40610a0",
   "metadata": {},
   "outputs": [
    {
     "name": "stdout",
     "output_type": "stream",
     "text": [
      "+---+----------------+------+------------+------------+--------------------+-----------------+--------------+------------------+------+-----------+-----------+------------+-----------------+-----+\n",
      "|age|       workclass|fnlwgt|   education|educationNum|       maritalStatus|       occupation|  relationship|              race|   sex|capitalGain|capitalLoss|hoursPerWeek|    nativeCountry|Mayor|\n",
      "+---+----------------+------+------------+------------+--------------------+-----------------+--------------+------------------+------+-----------+-----------+------------+-----------------+-----+\n",
      "| 39|       State-gov| 77516|   Bachelors|          13|       Never-married|     Adm-clerical| Not-in-family|             White|  Male|       2174|          0|          40|    United-States|<=50K|\n",
      "| 50|Self-emp-not-inc| 83311|   Bachelors|          13|  Married-civ-spouse|  Exec-managerial|       Husband|             White|  Male|          0|          0|          13|    United-States|<=50K|\n",
      "| 38|         Private|215646|     HS-grad|           9|            Divorced|Handlers-cleaners| Not-in-family|             White|  Male|          0|          0|          40|    United-States|<=50K|\n",
      "| 53|         Private|234721|        11th|           7|  Married-civ-spouse|Handlers-cleaners|       Husband|             Black|  Male|          0|          0|          40|    United-States|<=50K|\n",
      "| 28|         Private|338409|   Bachelors|          13|  Married-civ-spouse|   Prof-specialty|          Wife|             Black|Female|          0|          0|          40|             Cuba|<=50K|\n",
      "| 37|         Private|284582|     Masters|          14|  Married-civ-spouse|  Exec-managerial|          Wife|             White|Female|          0|          0|          40|    United-States|<=50K|\n",
      "| 49|         Private|160187|         9th|           5|Married-spouse-ab...|    Other-service| Not-in-family|             Black|Female|          0|          0|          16|          Jamaica|<=50K|\n",
      "| 52|Self-emp-not-inc|209642|     HS-grad|           9|  Married-civ-spouse|  Exec-managerial|       Husband|             White|  Male|          0|          0|          45|    United-States| >50K|\n",
      "| 31|         Private| 45781|     Masters|          14|       Never-married|   Prof-specialty| Not-in-family|             White|Female|      14084|          0|          50|    United-States| >50K|\n",
      "| 42|         Private|159449|   Bachelors|          13|  Married-civ-spouse|  Exec-managerial|       Husband|             White|  Male|       5178|          0|          40|    United-States| >50K|\n",
      "| 37|         Private|280464|Some-college|          10|  Married-civ-spouse|  Exec-managerial|       Husband|             Black|  Male|          0|          0|          80|    United-States| >50K|\n",
      "| 30|       State-gov|141297|   Bachelors|          13|  Married-civ-spouse|   Prof-specialty|       Husband|Asian-Pac-Islander|  Male|          0|          0|          40|            India| >50K|\n",
      "| 23|         Private|122272|   Bachelors|          13|       Never-married|     Adm-clerical|     Own-child|             White|Female|          0|          0|          30|    United-States|<=50K|\n",
      "| 32|         Private|205019|  Assoc-acdm|          12|       Never-married|            Sales| Not-in-family|             Black|  Male|          0|          0|          50|    United-States|<=50K|\n",
      "| 40|         Private|121772|   Assoc-voc|          11|  Married-civ-spouse|     Craft-repair|       Husband|Asian-Pac-Islander|  Male|          0|          0|          40|No country Native| >50K|\n",
      "| 34|         Private|245487|     7th-8th|           4|  Married-civ-spouse| Transport-moving|       Husband|Amer-Indian-Eskimo|  Male|          0|          0|          45|           Mexico|<=50K|\n",
      "| 25|Self-emp-not-inc|176756|     HS-grad|           9|       Never-married|  Farming-fishing|     Own-child|             White|  Male|          0|          0|          35|    United-States|<=50K|\n",
      "| 32|         Private|186824|     HS-grad|           9|       Never-married|Machine-op-inspct|     Unmarried|             White|  Male|          0|          0|          40|    United-States|<=50K|\n",
      "| 38|         Private| 28887|        11th|           7|  Married-civ-spouse|            Sales|       Husband|             White|  Male|          0|          0|          50|    United-States|<=50K|\n",
      "| 43|Self-emp-not-inc|292175|     Masters|          14|            Divorced|  Exec-managerial|     Unmarried|             White|Female|          0|          0|          45|    United-States| >50K|\n",
      "| 40|         Private|193524|   Doctorate|          16|  Married-civ-spouse|   Prof-specialty|       Husband|             White|  Male|          0|          0|          60|    United-States| >50K|\n",
      "| 54|         Private|302146|     HS-grad|           9|           Separated|    Other-service|     Unmarried|             Black|Female|          0|          0|          20|    United-States|<=50K|\n",
      "| 35|     Federal-gov| 76845|         9th|           5|  Married-civ-spouse|  Farming-fishing|       Husband|             Black|  Male|          0|          0|          40|    United-States|<=50K|\n",
      "| 43|         Private|117037|        11th|           7|  Married-civ-spouse| Transport-moving|       Husband|             White|  Male|          0|       2042|          40|    United-States|<=50K|\n",
      "| 59|         Private|109015|     HS-grad|           9|            Divorced|     Tech-support|     Unmarried|             White|Female|          0|          0|          40|    United-States|<=50K|\n",
      "| 56|       Local-gov|216851|   Bachelors|          13|  Married-civ-spouse|     Tech-support|       Husband|             White|  Male|          0|          0|          40|    United-States| >50K|\n",
      "| 19|         Private|168294|     HS-grad|           9|       Never-married|     Craft-repair|     Own-child|             White|  Male|          0|          0|          40|    United-States|<=50K|\n",
      "| 54|    No WorkClass|180211|Some-college|          10|  Married-civ-spouse|    No occupation|       Husband|Asian-Pac-Islander|  Male|          0|          0|          60|            South| >50K|\n",
      "| 39|         Private|367260|     HS-grad|           9|            Divorced|  Exec-managerial| Not-in-family|             White|  Male|          0|          0|          80|    United-States|<=50K|\n",
      "| 49|         Private|193366|     HS-grad|           9|  Married-civ-spouse|     Craft-repair|       Husband|             White|  Male|          0|          0|          40|    United-States|<=50K|\n",
      "| 23|       Local-gov|190709|  Assoc-acdm|          12|       Never-married|  Protective-serv| Not-in-family|             White|  Male|          0|          0|          52|    United-States|<=50K|\n",
      "| 20|         Private|266015|Some-college|          10|       Never-married|            Sales|     Own-child|             Black|  Male|          0|          0|          44|    United-States|<=50K|\n",
      "| 45|         Private|386940|   Bachelors|          13|            Divorced|  Exec-managerial|     Own-child|             White|  Male|          0|       1408|          40|    United-States|<=50K|\n",
      "| 30|     Federal-gov| 59951|Some-college|          10|  Married-civ-spouse|     Adm-clerical|     Own-child|             White|  Male|          0|          0|          40|    United-States|<=50K|\n",
      "| 22|       State-gov|311512|Some-college|          10|  Married-civ-spouse|    Other-service|       Husband|             Black|  Male|          0|          0|          15|    United-States|<=50K|\n",
      "| 48|         Private|242406|        11th|           7|       Never-married|Machine-op-inspct|     Unmarried|             White|  Male|          0|          0|          40|      Puerto-Rico|<=50K|\n",
      "| 21|         Private|197200|Some-college|          10|       Never-married|Machine-op-inspct|     Own-child|             White|  Male|          0|          0|          40|    United-States|<=50K|\n",
      "| 19|         Private|544091|     HS-grad|           9|   Married-AF-spouse|     Adm-clerical|          Wife|             White|Female|          0|          0|          25|    United-States|<=50K|\n",
      "| 31|         Private| 84154|Some-college|          10|  Married-civ-spouse|            Sales|       Husband|             White|  Male|          0|          0|          38|No country Native| >50K|\n",
      "| 48|Self-emp-not-inc|265477|  Assoc-acdm|          12|  Married-civ-spouse|   Prof-specialty|       Husband|             White|  Male|          0|          0|          40|    United-States|<=50K|\n",
      "| 31|         Private|507875|         9th|           5|  Married-civ-spouse|Machine-op-inspct|       Husband|             White|  Male|          0|          0|          43|    United-States|<=50K|\n",
      "| 53|Self-emp-not-inc| 88506|   Bachelors|          13|  Married-civ-spouse|   Prof-specialty|       Husband|             White|  Male|          0|          0|          40|    United-States|<=50K|\n",
      "| 24|         Private|172987|   Bachelors|          13|  Married-civ-spouse|     Tech-support|       Husband|             White|  Male|          0|          0|          50|    United-States|<=50K|\n",
      "| 49|         Private| 94638|     HS-grad|           9|           Separated|     Adm-clerical|     Unmarried|             White|Female|          0|          0|          40|    United-States|<=50K|\n",
      "| 25|         Private|289980|     HS-grad|           9|       Never-married|Handlers-cleaners| Not-in-family|             White|  Male|          0|          0|          35|    United-States|<=50K|\n",
      "| 57|     Federal-gov|337895|   Bachelors|          13|  Married-civ-spouse|   Prof-specialty|       Husband|             Black|  Male|          0|          0|          40|    United-States| >50K|\n",
      "| 53|         Private|144361|     HS-grad|           9|  Married-civ-spouse|Machine-op-inspct|       Husband|             White|  Male|          0|          0|          38|    United-States|<=50K|\n",
      "| 44|         Private|128354|     Masters|          14|            Divorced|  Exec-managerial|     Unmarried|             White|Female|          0|          0|          40|    United-States|<=50K|\n",
      "| 41|       State-gov|101603|   Assoc-voc|          11|  Married-civ-spouse|     Craft-repair|       Husband|             White|  Male|          0|          0|          40|    United-States|<=50K|\n",
      "| 29|         Private|271466|   Assoc-voc|          11|       Never-married|   Prof-specialty| Not-in-family|             White|  Male|          0|          0|          43|    United-States|<=50K|\n",
      "| 25|         Private| 32275|Some-college|          10|  Married-civ-spouse|  Exec-managerial|          Wife|             Other|Female|          0|          0|          40|    United-States|<=50K|\n",
      "| 18|         Private|226956|     HS-grad|           9|       Never-married|    Other-service|     Own-child|             White|Female|          0|          0|          30|No country Native|<=50K|\n",
      "| 47|         Private| 51835| Prof-school|          15|  Married-civ-spouse|   Prof-specialty|          Wife|             White|Female|          0|       1902|          60|         Honduras| >50K|\n",
      "| 50|     Federal-gov|251585|   Bachelors|          13|            Divorced|  Exec-managerial| Not-in-family|             White|  Male|          0|          0|          55|    United-States| >50K|\n",
      "| 47|    Self-emp-inc|109832|     HS-grad|           9|            Divorced|  Exec-managerial| Not-in-family|             White|  Male|          0|          0|          60|    United-States|<=50K|\n",
      "| 43|         Private|237993|Some-college|          10|  Married-civ-spouse|     Tech-support|       Husband|             White|  Male|          0|          0|          40|    United-States| >50K|\n",
      "| 46|         Private|216666|     5th-6th|           3|  Married-civ-spouse|Machine-op-inspct|       Husband|             White|  Male|          0|          0|          40|           Mexico|<=50K|\n",
      "| 35|         Private| 56352|   Assoc-voc|          11|  Married-civ-spouse|    Other-service|       Husband|             White|  Male|          0|          0|          40|      Puerto-Rico|<=50K|\n",
      "| 41|         Private|147372|     HS-grad|           9|  Married-civ-spouse|     Adm-clerical|       Husband|             White|  Male|          0|          0|          48|    United-States|<=50K|\n",
      "| 30|         Private|188146|     HS-grad|           9|  Married-civ-spouse|Machine-op-inspct|       Husband|             White|  Male|       5013|          0|          40|    United-States|<=50K|\n",
      "| 30|         Private| 59496|   Bachelors|          13|  Married-civ-spouse|            Sales|       Husband|             White|  Male|       2407|          0|          40|    United-States|<=50K|\n",
      "| 32|    No WorkClass|293936|     7th-8th|           4|Married-spouse-ab...|    No occupation| Not-in-family|             White|  Male|          0|          0|          40|No country Native|<=50K|\n",
      "| 48|         Private|149640|     HS-grad|           9|  Married-civ-spouse| Transport-moving|       Husband|             White|  Male|          0|          0|          40|    United-States|<=50K|\n",
      "| 42|         Private|116632|   Doctorate|          16|  Married-civ-spouse|   Prof-specialty|       Husband|             White|  Male|          0|          0|          45|    United-States| >50K|\n",
      "| 29|         Private|105598|Some-college|          10|            Divorced|     Tech-support| Not-in-family|             White|  Male|          0|          0|          58|    United-States|<=50K|\n",
      "| 36|         Private|155537|     HS-grad|           9|  Married-civ-spouse|     Craft-repair|       Husband|             White|  Male|          0|          0|          40|    United-States|<=50K|\n",
      "| 28|         Private|183175|Some-college|          10|            Divorced|     Adm-clerical| Not-in-family|             White|Female|          0|          0|          40|    United-States|<=50K|\n",
      "| 53|         Private|169846|     HS-grad|           9|  Married-civ-spouse|     Adm-clerical|          Wife|             White|Female|          0|          0|          40|    United-States| >50K|\n",
      "| 49|    Self-emp-inc|191681|Some-college|          10|  Married-civ-spouse|  Exec-managerial|       Husband|             White|  Male|          0|          0|          50|    United-States| >50K|\n",
      "| 25|    No WorkClass|200681|Some-college|          10|       Never-married|    No occupation|     Own-child|             White|  Male|          0|          0|          40|    United-States|<=50K|\n",
      "| 19|         Private|101509|Some-college|          10|       Never-married|   Prof-specialty|     Own-child|             White|  Male|          0|          0|          32|    United-States|<=50K|\n",
      "| 31|         Private|309974|   Bachelors|          13|           Separated|            Sales|     Own-child|             Black|Female|          0|          0|          40|    United-States|<=50K|\n",
      "| 29|Self-emp-not-inc|162298|   Bachelors|          13|  Married-civ-spouse|            Sales|       Husband|             White|  Male|          0|          0|          70|    United-States| >50K|\n",
      "| 23|         Private|211678|Some-college|          10|       Never-married|Machine-op-inspct| Not-in-family|             White|  Male|          0|          0|          40|    United-States|<=50K|\n",
      "| 79|         Private|124744|Some-college|          10|  Married-civ-spouse|   Prof-specialty|Other-relative|             White|  Male|          0|          0|          20|    United-States|<=50K|\n",
      "| 27|         Private|213921|     HS-grad|           9|       Never-married|    Other-service|     Own-child|             White|  Male|          0|          0|          40|           Mexico|<=50K|\n",
      "| 40|         Private| 32214|  Assoc-acdm|          12|  Married-civ-spouse|     Adm-clerical|       Husband|             White|  Male|          0|          0|          40|    United-States|<=50K|\n",
      "| 67|    No WorkClass|212759|        10th|           6|  Married-civ-spouse|    No occupation|       Husband|             White|  Male|          0|          0|           2|    United-States|<=50K|\n",
      "| 18|         Private|309634|        11th|           7|       Never-married|    Other-service|     Own-child|             White|Female|          0|          0|          22|    United-States|<=50K|\n",
      "| 31|       Local-gov|125927|     7th-8th|           4|  Married-civ-spouse|  Farming-fishing|       Husband|             White|  Male|          0|          0|          40|    United-States|<=50K|\n",
      "| 18|         Private|446839|     HS-grad|           9|       Never-married|            Sales| Not-in-family|             White|  Male|          0|          0|          30|    United-States|<=50K|\n",
      "| 52|         Private|276515|   Bachelors|          13|  Married-civ-spouse|    Other-service|       Husband|             White|  Male|          0|          0|          40|             Cuba|<=50K|\n",
      "| 46|         Private| 51618|     HS-grad|           9|  Married-civ-spouse|    Other-service|          Wife|             White|Female|          0|          0|          40|    United-States|<=50K|\n",
      "| 59|         Private|159937|     HS-grad|           9|  Married-civ-spouse|            Sales|       Husband|             White|  Male|          0|          0|          48|    United-States|<=50K|\n",
      "| 44|         Private|343591|     HS-grad|           9|            Divorced|     Craft-repair| Not-in-family|             White|Female|      14344|          0|          40|    United-States| >50K|\n",
      "| 53|         Private|346253|     HS-grad|           9|            Divorced|            Sales|     Own-child|             White|Female|          0|          0|          35|    United-States|<=50K|\n",
      "| 49|       Local-gov|268234|     HS-grad|           9|  Married-civ-spouse|  Protective-serv|       Husband|             White|  Male|          0|          0|          40|    United-States| >50K|\n",
      "| 33|         Private|202051|     Masters|          14|  Married-civ-spouse|   Prof-specialty|       Husband|             White|  Male|          0|          0|          50|    United-States|<=50K|\n",
      "| 30|         Private| 54334|         9th|           5|       Never-married|            Sales| Not-in-family|             White|  Male|          0|          0|          40|    United-States|<=50K|\n",
      "| 43|     Federal-gov|410867|   Doctorate|          16|       Never-married|   Prof-specialty| Not-in-family|             White|Female|          0|          0|          50|    United-States| >50K|\n",
      "| 57|         Private|249977|   Assoc-voc|          11|  Married-civ-spouse|   Prof-specialty|       Husband|             White|  Male|          0|          0|          40|    United-States|<=50K|\n",
      "| 37|         Private|286730|Some-college|          10|            Divorced|     Craft-repair|     Unmarried|             White|Female|          0|          0|          40|    United-States|<=50K|\n",
      "| 28|         Private|212563|Some-college|          10|            Divorced|Machine-op-inspct|     Unmarried|             Black|Female|          0|          0|          25|    United-States|<=50K|\n",
      "| 30|         Private|117747|     HS-grad|           9|  Married-civ-spouse|            Sales|          Wife|Asian-Pac-Islander|Female|          0|       1573|          35|No country Native|<=50K|\n",
      "| 34|       Local-gov|226296|   Bachelors|          13|  Married-civ-spouse|  Protective-serv|       Husband|             White|  Male|          0|          0|          40|    United-States| >50K|\n",
      "| 29|       Local-gov|115585|Some-college|          10|       Never-married|Handlers-cleaners| Not-in-family|             White|  Male|          0|          0|          50|    United-States|<=50K|\n",
      "| 48|Self-emp-not-inc|191277|   Doctorate|          16|  Married-civ-spouse|   Prof-specialty|       Husband|             White|  Male|          0|       1902|          60|    United-States| >50K|\n",
      "| 37|         Private|202683|Some-college|          10|  Married-civ-spouse|            Sales|       Husband|             White|  Male|          0|          0|          48|    United-States| >50K|\n",
      "| 48|         Private|171095|  Assoc-acdm|          12|            Divorced|  Exec-managerial|     Unmarried|             White|Female|          0|          0|          40|          England|<=50K|\n",
      "| 32|     Federal-gov|249409|     HS-grad|           9|       Never-married|    Other-service|     Own-child|             Black|  Male|          0|          0|          40|    United-States|<=50K|\n",
      "+---+----------------+------+------------+------------+--------------------+-----------------+--------------+------------------+------+-----------+-----------+------------+-----------------+-----+\n",
      "only showing top 100 rows\n",
      "\n"
     ]
    }
   ],
   "source": [
    "df_pyspark_NoNull.show(100)"
   ]
  },
  {
   "cell_type": "markdown",
   "id": "1a5a5c31",
   "metadata": {},
   "source": [
    "## Transformar los datos nulos de la columna workclass por el dato \"No workclass\""
   ]
  },
  {
   "cell_type": "code",
   "execution_count": 34,
   "id": "4c3c43d8",
   "metadata": {},
   "outputs": [],
   "source": [
    "df_pyspark_NoNull = df_pyspark_NoNull.na.fill(\"No WorkClass\",['workclass'])"
   ]
  },
  {
   "cell_type": "code",
   "execution_count": 50,
   "id": "ad500447",
   "metadata": {},
   "outputs": [
    {
     "name": "stdout",
     "output_type": "stream",
     "text": [
      "+---+----------------+------+------------+------------+--------------------+-----------------+--------------+------------------+------+-----------+-----------+------------+-----------------+-----+\n",
      "|age|       workclass|fnlwgt|   education|educationNum|       maritalStatus|       occupation|  relationship|              race|   sex|capitalGain|capitalLoss|hoursPerWeek|    nativeCountry|Mayor|\n",
      "+---+----------------+------+------------+------------+--------------------+-----------------+--------------+------------------+------+-----------+-----------+------------+-----------------+-----+\n",
      "| 39|       State-gov| 77516|   Bachelors|          13|       Never-married|     Adm-clerical| Not-in-family|             White|  Male|       2174|          0|          40|    United-States|<=50K|\n",
      "| 50|Self-emp-not-inc| 83311|   Bachelors|          13|  Married-civ-spouse|  Exec-managerial|       Husband|             White|  Male|          0|          0|          13|    United-States|<=50K|\n",
      "| 38|         Private|215646|     HS-grad|           9|            Divorced|Handlers-cleaners| Not-in-family|             White|  Male|          0|          0|          40|    United-States|<=50K|\n",
      "| 53|         Private|234721|        11th|           7|  Married-civ-spouse|Handlers-cleaners|       Husband|             Black|  Male|          0|          0|          40|    United-States|<=50K|\n",
      "| 28|         Private|338409|   Bachelors|          13|  Married-civ-spouse|   Prof-specialty|          Wife|             Black|Female|          0|          0|          40|             Cuba|<=50K|\n",
      "| 37|         Private|284582|     Masters|          14|  Married-civ-spouse|  Exec-managerial|          Wife|             White|Female|          0|          0|          40|    United-States|<=50K|\n",
      "| 49|         Private|160187|         9th|           5|Married-spouse-ab...|    Other-service| Not-in-family|             Black|Female|          0|          0|          16|          Jamaica|<=50K|\n",
      "| 52|Self-emp-not-inc|209642|     HS-grad|           9|  Married-civ-spouse|  Exec-managerial|       Husband|             White|  Male|          0|          0|          45|    United-States| >50K|\n",
      "| 31|         Private| 45781|     Masters|          14|       Never-married|   Prof-specialty| Not-in-family|             White|Female|      14084|          0|          50|    United-States| >50K|\n",
      "| 42|         Private|159449|   Bachelors|          13|  Married-civ-spouse|  Exec-managerial|       Husband|             White|  Male|       5178|          0|          40|    United-States| >50K|\n",
      "| 37|         Private|280464|Some-college|          10|  Married-civ-spouse|  Exec-managerial|       Husband|             Black|  Male|          0|          0|          80|    United-States| >50K|\n",
      "| 30|       State-gov|141297|   Bachelors|          13|  Married-civ-spouse|   Prof-specialty|       Husband|Asian-Pac-Islander|  Male|          0|          0|          40|            India| >50K|\n",
      "| 23|         Private|122272|   Bachelors|          13|       Never-married|     Adm-clerical|     Own-child|             White|Female|          0|          0|          30|    United-States|<=50K|\n",
      "| 32|         Private|205019|  Assoc-acdm|          12|       Never-married|            Sales| Not-in-family|             Black|  Male|          0|          0|          50|    United-States|<=50K|\n",
      "| 40|         Private|121772|   Assoc-voc|          11|  Married-civ-spouse|     Craft-repair|       Husband|Asian-Pac-Islander|  Male|          0|          0|          40|No country Native| >50K|\n",
      "| 34|         Private|245487|     7th-8th|           4|  Married-civ-spouse| Transport-moving|       Husband|Amer-Indian-Eskimo|  Male|          0|          0|          45|           Mexico|<=50K|\n",
      "| 25|Self-emp-not-inc|176756|     HS-grad|           9|       Never-married|  Farming-fishing|     Own-child|             White|  Male|          0|          0|          35|    United-States|<=50K|\n",
      "| 32|         Private|186824|     HS-grad|           9|       Never-married|Machine-op-inspct|     Unmarried|             White|  Male|          0|          0|          40|    United-States|<=50K|\n",
      "| 38|         Private| 28887|        11th|           7|  Married-civ-spouse|            Sales|       Husband|             White|  Male|          0|          0|          50|    United-States|<=50K|\n",
      "| 43|Self-emp-not-inc|292175|     Masters|          14|            Divorced|  Exec-managerial|     Unmarried|             White|Female|          0|          0|          45|    United-States| >50K|\n",
      "| 40|         Private|193524|   Doctorate|          16|  Married-civ-spouse|   Prof-specialty|       Husband|             White|  Male|          0|          0|          60|    United-States| >50K|\n",
      "| 54|         Private|302146|     HS-grad|           9|           Separated|    Other-service|     Unmarried|             Black|Female|          0|          0|          20|    United-States|<=50K|\n",
      "| 35|     Federal-gov| 76845|         9th|           5|  Married-civ-spouse|  Farming-fishing|       Husband|             Black|  Male|          0|          0|          40|    United-States|<=50K|\n",
      "| 43|         Private|117037|        11th|           7|  Married-civ-spouse| Transport-moving|       Husband|             White|  Male|          0|       2042|          40|    United-States|<=50K|\n",
      "| 59|         Private|109015|     HS-grad|           9|            Divorced|     Tech-support|     Unmarried|             White|Female|          0|          0|          40|    United-States|<=50K|\n",
      "| 56|       Local-gov|216851|   Bachelors|          13|  Married-civ-spouse|     Tech-support|       Husband|             White|  Male|          0|          0|          40|    United-States| >50K|\n",
      "| 19|         Private|168294|     HS-grad|           9|       Never-married|     Craft-repair|     Own-child|             White|  Male|          0|          0|          40|    United-States|<=50K|\n",
      "| 54|    No WorkClass|180211|Some-college|          10|  Married-civ-spouse|    No occupation|       Husband|Asian-Pac-Islander|  Male|          0|          0|          60|            South| >50K|\n",
      "| 39|         Private|367260|     HS-grad|           9|            Divorced|  Exec-managerial| Not-in-family|             White|  Male|          0|          0|          80|    United-States|<=50K|\n",
      "| 49|         Private|193366|     HS-grad|           9|  Married-civ-spouse|     Craft-repair|       Husband|             White|  Male|          0|          0|          40|    United-States|<=50K|\n",
      "| 23|       Local-gov|190709|  Assoc-acdm|          12|       Never-married|  Protective-serv| Not-in-family|             White|  Male|          0|          0|          52|    United-States|<=50K|\n",
      "| 20|         Private|266015|Some-college|          10|       Never-married|            Sales|     Own-child|             Black|  Male|          0|          0|          44|    United-States|<=50K|\n",
      "| 45|         Private|386940|   Bachelors|          13|            Divorced|  Exec-managerial|     Own-child|             White|  Male|          0|       1408|          40|    United-States|<=50K|\n",
      "| 30|     Federal-gov| 59951|Some-college|          10|  Married-civ-spouse|     Adm-clerical|     Own-child|             White|  Male|          0|          0|          40|    United-States|<=50K|\n",
      "| 22|       State-gov|311512|Some-college|          10|  Married-civ-spouse|    Other-service|       Husband|             Black|  Male|          0|          0|          15|    United-States|<=50K|\n",
      "| 48|         Private|242406|        11th|           7|       Never-married|Machine-op-inspct|     Unmarried|             White|  Male|          0|          0|          40|      Puerto-Rico|<=50K|\n",
      "| 21|         Private|197200|Some-college|          10|       Never-married|Machine-op-inspct|     Own-child|             White|  Male|          0|          0|          40|    United-States|<=50K|\n",
      "| 19|         Private|544091|     HS-grad|           9|   Married-AF-spouse|     Adm-clerical|          Wife|             White|Female|          0|          0|          25|    United-States|<=50K|\n",
      "| 31|         Private| 84154|Some-college|          10|  Married-civ-spouse|            Sales|       Husband|             White|  Male|          0|          0|          38|No country Native| >50K|\n",
      "| 48|Self-emp-not-inc|265477|  Assoc-acdm|          12|  Married-civ-spouse|   Prof-specialty|       Husband|             White|  Male|          0|          0|          40|    United-States|<=50K|\n",
      "| 31|         Private|507875|         9th|           5|  Married-civ-spouse|Machine-op-inspct|       Husband|             White|  Male|          0|          0|          43|    United-States|<=50K|\n",
      "| 53|Self-emp-not-inc| 88506|   Bachelors|          13|  Married-civ-spouse|   Prof-specialty|       Husband|             White|  Male|          0|          0|          40|    United-States|<=50K|\n",
      "| 24|         Private|172987|   Bachelors|          13|  Married-civ-spouse|     Tech-support|       Husband|             White|  Male|          0|          0|          50|    United-States|<=50K|\n",
      "| 49|         Private| 94638|     HS-grad|           9|           Separated|     Adm-clerical|     Unmarried|             White|Female|          0|          0|          40|    United-States|<=50K|\n",
      "| 25|         Private|289980|     HS-grad|           9|       Never-married|Handlers-cleaners| Not-in-family|             White|  Male|          0|          0|          35|    United-States|<=50K|\n",
      "| 57|     Federal-gov|337895|   Bachelors|          13|  Married-civ-spouse|   Prof-specialty|       Husband|             Black|  Male|          0|          0|          40|    United-States| >50K|\n",
      "| 53|         Private|144361|     HS-grad|           9|  Married-civ-spouse|Machine-op-inspct|       Husband|             White|  Male|          0|          0|          38|    United-States|<=50K|\n",
      "| 44|         Private|128354|     Masters|          14|            Divorced|  Exec-managerial|     Unmarried|             White|Female|          0|          0|          40|    United-States|<=50K|\n",
      "| 41|       State-gov|101603|   Assoc-voc|          11|  Married-civ-spouse|     Craft-repair|       Husband|             White|  Male|          0|          0|          40|    United-States|<=50K|\n",
      "| 29|         Private|271466|   Assoc-voc|          11|       Never-married|   Prof-specialty| Not-in-family|             White|  Male|          0|          0|          43|    United-States|<=50K|\n",
      "| 25|         Private| 32275|Some-college|          10|  Married-civ-spouse|  Exec-managerial|          Wife|             Other|Female|          0|          0|          40|    United-States|<=50K|\n",
      "| 18|         Private|226956|     HS-grad|           9|       Never-married|    Other-service|     Own-child|             White|Female|          0|          0|          30|No country Native|<=50K|\n",
      "| 47|         Private| 51835| Prof-school|          15|  Married-civ-spouse|   Prof-specialty|          Wife|             White|Female|          0|       1902|          60|         Honduras| >50K|\n",
      "| 50|     Federal-gov|251585|   Bachelors|          13|            Divorced|  Exec-managerial| Not-in-family|             White|  Male|          0|          0|          55|    United-States| >50K|\n",
      "| 47|    Self-emp-inc|109832|     HS-grad|           9|            Divorced|  Exec-managerial| Not-in-family|             White|  Male|          0|          0|          60|    United-States|<=50K|\n",
      "| 43|         Private|237993|Some-college|          10|  Married-civ-spouse|     Tech-support|       Husband|             White|  Male|          0|          0|          40|    United-States| >50K|\n",
      "| 46|         Private|216666|     5th-6th|           3|  Married-civ-spouse|Machine-op-inspct|       Husband|             White|  Male|          0|          0|          40|           Mexico|<=50K|\n",
      "| 35|         Private| 56352|   Assoc-voc|          11|  Married-civ-spouse|    Other-service|       Husband|             White|  Male|          0|          0|          40|      Puerto-Rico|<=50K|\n",
      "| 41|         Private|147372|     HS-grad|           9|  Married-civ-spouse|     Adm-clerical|       Husband|             White|  Male|          0|          0|          48|    United-States|<=50K|\n",
      "| 30|         Private|188146|     HS-grad|           9|  Married-civ-spouse|Machine-op-inspct|       Husband|             White|  Male|       5013|          0|          40|    United-States|<=50K|\n",
      "| 30|         Private| 59496|   Bachelors|          13|  Married-civ-spouse|            Sales|       Husband|             White|  Male|       2407|          0|          40|    United-States|<=50K|\n",
      "| 32|    No WorkClass|293936|     7th-8th|           4|Married-spouse-ab...|    No occupation| Not-in-family|             White|  Male|          0|          0|          40|No country Native|<=50K|\n",
      "| 48|         Private|149640|     HS-grad|           9|  Married-civ-spouse| Transport-moving|       Husband|             White|  Male|          0|          0|          40|    United-States|<=50K|\n",
      "| 42|         Private|116632|   Doctorate|          16|  Married-civ-spouse|   Prof-specialty|       Husband|             White|  Male|          0|          0|          45|    United-States| >50K|\n",
      "| 29|         Private|105598|Some-college|          10|            Divorced|     Tech-support| Not-in-family|             White|  Male|          0|          0|          58|    United-States|<=50K|\n",
      "| 36|         Private|155537|     HS-grad|           9|  Married-civ-spouse|     Craft-repair|       Husband|             White|  Male|          0|          0|          40|    United-States|<=50K|\n",
      "| 28|         Private|183175|Some-college|          10|            Divorced|     Adm-clerical| Not-in-family|             White|Female|          0|          0|          40|    United-States|<=50K|\n",
      "| 53|         Private|169846|     HS-grad|           9|  Married-civ-spouse|     Adm-clerical|          Wife|             White|Female|          0|          0|          40|    United-States| >50K|\n",
      "| 49|    Self-emp-inc|191681|Some-college|          10|  Married-civ-spouse|  Exec-managerial|       Husband|             White|  Male|          0|          0|          50|    United-States| >50K|\n",
      "| 25|    No WorkClass|200681|Some-college|          10|       Never-married|    No occupation|     Own-child|             White|  Male|          0|          0|          40|    United-States|<=50K|\n",
      "| 19|         Private|101509|Some-college|          10|       Never-married|   Prof-specialty|     Own-child|             White|  Male|          0|          0|          32|    United-States|<=50K|\n",
      "| 31|         Private|309974|   Bachelors|          13|           Separated|            Sales|     Own-child|             Black|Female|          0|          0|          40|    United-States|<=50K|\n",
      "| 29|Self-emp-not-inc|162298|   Bachelors|          13|  Married-civ-spouse|            Sales|       Husband|             White|  Male|          0|          0|          70|    United-States| >50K|\n",
      "| 23|         Private|211678|Some-college|          10|       Never-married|Machine-op-inspct| Not-in-family|             White|  Male|          0|          0|          40|    United-States|<=50K|\n",
      "| 79|         Private|124744|Some-college|          10|  Married-civ-spouse|   Prof-specialty|Other-relative|             White|  Male|          0|          0|          20|    United-States|<=50K|\n",
      "| 27|         Private|213921|     HS-grad|           9|       Never-married|    Other-service|     Own-child|             White|  Male|          0|          0|          40|           Mexico|<=50K|\n",
      "| 40|         Private| 32214|  Assoc-acdm|          12|  Married-civ-spouse|     Adm-clerical|       Husband|             White|  Male|          0|          0|          40|    United-States|<=50K|\n",
      "| 67|    No WorkClass|212759|        10th|           6|  Married-civ-spouse|    No occupation|       Husband|             White|  Male|          0|          0|           2|    United-States|<=50K|\n",
      "| 18|         Private|309634|        11th|           7|       Never-married|    Other-service|     Own-child|             White|Female|          0|          0|          22|    United-States|<=50K|\n",
      "| 31|       Local-gov|125927|     7th-8th|           4|  Married-civ-spouse|  Farming-fishing|       Husband|             White|  Male|          0|          0|          40|    United-States|<=50K|\n",
      "| 18|         Private|446839|     HS-grad|           9|       Never-married|            Sales| Not-in-family|             White|  Male|          0|          0|          30|    United-States|<=50K|\n",
      "| 52|         Private|276515|   Bachelors|          13|  Married-civ-spouse|    Other-service|       Husband|             White|  Male|          0|          0|          40|             Cuba|<=50K|\n",
      "| 46|         Private| 51618|     HS-grad|           9|  Married-civ-spouse|    Other-service|          Wife|             White|Female|          0|          0|          40|    United-States|<=50K|\n",
      "| 59|         Private|159937|     HS-grad|           9|  Married-civ-spouse|            Sales|       Husband|             White|  Male|          0|          0|          48|    United-States|<=50K|\n",
      "| 44|         Private|343591|     HS-grad|           9|            Divorced|     Craft-repair| Not-in-family|             White|Female|      14344|          0|          40|    United-States| >50K|\n",
      "| 53|         Private|346253|     HS-grad|           9|            Divorced|            Sales|     Own-child|             White|Female|          0|          0|          35|    United-States|<=50K|\n",
      "| 49|       Local-gov|268234|     HS-grad|           9|  Married-civ-spouse|  Protective-serv|       Husband|             White|  Male|          0|          0|          40|    United-States| >50K|\n",
      "| 33|         Private|202051|     Masters|          14|  Married-civ-spouse|   Prof-specialty|       Husband|             White|  Male|          0|          0|          50|    United-States|<=50K|\n",
      "| 30|         Private| 54334|         9th|           5|       Never-married|            Sales| Not-in-family|             White|  Male|          0|          0|          40|    United-States|<=50K|\n",
      "| 43|     Federal-gov|410867|   Doctorate|          16|       Never-married|   Prof-specialty| Not-in-family|             White|Female|          0|          0|          50|    United-States| >50K|\n",
      "| 57|         Private|249977|   Assoc-voc|          11|  Married-civ-spouse|   Prof-specialty|       Husband|             White|  Male|          0|          0|          40|    United-States|<=50K|\n",
      "| 37|         Private|286730|Some-college|          10|            Divorced|     Craft-repair|     Unmarried|             White|Female|          0|          0|          40|    United-States|<=50K|\n",
      "| 28|         Private|212563|Some-college|          10|            Divorced|Machine-op-inspct|     Unmarried|             Black|Female|          0|          0|          25|    United-States|<=50K|\n",
      "| 30|         Private|117747|     HS-grad|           9|  Married-civ-spouse|            Sales|          Wife|Asian-Pac-Islander|Female|          0|       1573|          35|No country Native|<=50K|\n",
      "| 34|       Local-gov|226296|   Bachelors|          13|  Married-civ-spouse|  Protective-serv|       Husband|             White|  Male|          0|          0|          40|    United-States| >50K|\n",
      "| 29|       Local-gov|115585|Some-college|          10|       Never-married|Handlers-cleaners| Not-in-family|             White|  Male|          0|          0|          50|    United-States|<=50K|\n",
      "| 48|Self-emp-not-inc|191277|   Doctorate|          16|  Married-civ-spouse|   Prof-specialty|       Husband|             White|  Male|          0|       1902|          60|    United-States| >50K|\n",
      "| 37|         Private|202683|Some-college|          10|  Married-civ-spouse|            Sales|       Husband|             White|  Male|          0|          0|          48|    United-States| >50K|\n",
      "| 48|         Private|171095|  Assoc-acdm|          12|            Divorced|  Exec-managerial|     Unmarried|             White|Female|          0|          0|          40|          England|<=50K|\n",
      "| 32|     Federal-gov|249409|     HS-grad|           9|       Never-married|    Other-service|     Own-child|             Black|  Male|          0|          0|          40|    United-States|<=50K|\n",
      "+---+----------------+------+------------+------------+--------------------+-----------------+--------------+------------------+------+-----------+-----------+------------+-----------------+-----+\n",
      "only showing top 100 rows\n",
      "\n"
     ]
    }
   ],
   "source": [
    "df_pyspark_NoNull.show(100)"
   ]
  },
  {
   "cell_type": "markdown",
   "id": "b9fe62a6",
   "metadata": {},
   "source": [
    "## Comparacion de valores nulos con nuevo consulta en el df sin datos nulos"
   ]
  },
  {
   "cell_type": "code",
   "execution_count": 36,
   "id": "c9399875",
   "metadata": {},
   "outputs": [
    {
     "name": "stdout",
     "output_type": "stream",
     "text": [
      "+---+---------+------+---------+------------+-------------+----------+------------+----+---+-----------+-----------+------------+-------------+-----+\n",
      "|age|workclass|fnlwgt|education|educationNum|maritalStatus|occupation|relationship|race|sex|capitalGain|capitalLoss|hoursPerWeek|nativeCountry|Mayor|\n",
      "+---+---------+------+---------+------------+-------------+----------+------------+----+---+-----------+-----------+------------+-------------+-----+\n",
      "|  0|     1836|     0|        0|           0|            0|      1843|           0|   0|  0|          0|          0|           0|          583|    0|\n",
      "+---+---------+------+---------+------------+-------------+----------+------------+----+---+-----------+-----------+------------+-------------+-----+\n",
      "\n"
     ]
    }
   ],
   "source": [
    "b = df_pyspark.select([count(when(col(c).contains('None') | \\\n",
    "                            col(c).contains('NULL') | \\\n",
    "                            (col(c) == '' ) | \\\n",
    "                            col(c).isNull() | \\\n",
    "                            isnan(c), c \n",
    "                           )).alias(c)\n",
    "                    for c in df_pyspark.columns])\n",
    "b.show()"
   ]
  },
  {
   "cell_type": "code",
   "execution_count": 37,
   "id": "fb8676bf",
   "metadata": {},
   "outputs": [
    {
     "name": "stdout",
     "output_type": "stream",
     "text": [
      "+---+---------+------+---------+------------+-------------+----------+------------+----+---+-----------+-----------+------------+-------------+-----+\n",
      "|age|workclass|fnlwgt|education|educationNum|maritalStatus|occupation|relationship|race|sex|capitalGain|capitalLoss|hoursPerWeek|nativeCountry|Mayor|\n",
      "+---+---------+------+---------+------------+-------------+----------+------------+----+---+-----------+-----------+------------+-------------+-----+\n",
      "|  0|        0|     0|        0|           0|            0|         0|           0|   0|  0|          0|          0|           0|            0|    0|\n",
      "+---+---------+------+---------+------------+-------------+----------+------------+----+---+-----------+-----------+------------+-------------+-----+\n",
      "\n"
     ]
    }
   ],
   "source": [
    "J = df_pyspark_NoNull.select([count(when(col(c).contains('None') | \\\n",
    "                            col(c).contains('NULL') | \\\n",
    "                            (col(c) == '' ) | \\\n",
    "                            col(c).isNull() | \\\n",
    "                            isnan(c), c \n",
    "                           )).alias(c)\n",
    "                    for c in df_pyspark_NoNull.columns])\n",
    "J.show()"
   ]
  },
  {
   "cell_type": "code",
   "execution_count": 57,
   "id": "2bbbeb38",
   "metadata": {},
   "outputs": [
    {
     "name": "stdout",
     "output_type": "stream",
     "text": [
      "+---+----------------+------+------------+------------+--------------------+-----------------+-------------+------------------+------+-----------+-----------+------------+-----------------+-----+\n",
      "|age|       workclass|fnlwgt|   education|educationNum|       maritalStatus|       occupation| relationship|              race|   sex|capitalGain|capitalLoss|hoursPerWeek|    nativeCountry|Mayor|\n",
      "+---+----------------+------+------------+------------+--------------------+-----------------+-------------+------------------+------+-----------+-----------+------------+-----------------+-----+\n",
      "| 39|       State-gov| 77516|   Bachelors|          13|       Never-married|     Adm-clerical|Not-in-family|             White|  Male|       2174|          0|          40|    United-States|<=50K|\n",
      "| 50|Self-emp-not-inc| 83311|   Bachelors|          13|  Married-civ-spouse|  Exec-managerial|      Husband|             White|  Male|          0|          0|          13|    United-States|<=50K|\n",
      "| 38|         Private|215646|     HS-grad|           9|            Divorced|Handlers-cleaners|Not-in-family|             White|  Male|          0|          0|          40|    United-States|<=50K|\n",
      "| 53|         Private|234721|        11th|           7|  Married-civ-spouse|Handlers-cleaners|      Husband|             Black|  Male|          0|          0|          40|    United-States|<=50K|\n",
      "| 28|         Private|338409|   Bachelors|          13|  Married-civ-spouse|   Prof-specialty|         Wife|             Black|Female|          0|          0|          40|             Cuba|<=50K|\n",
      "| 37|         Private|284582|     Masters|          14|  Married-civ-spouse|  Exec-managerial|         Wife|             White|Female|          0|          0|          40|    United-States|<=50K|\n",
      "| 49|         Private|160187|         9th|           5|Married-spouse-ab...|    Other-service|Not-in-family|             Black|Female|          0|          0|          16|          Jamaica|<=50K|\n",
      "| 52|Self-emp-not-inc|209642|     HS-grad|           9|  Married-civ-spouse|  Exec-managerial|      Husband|             White|  Male|          0|          0|          45|    United-States| >50K|\n",
      "| 31|         Private| 45781|     Masters|          14|       Never-married|   Prof-specialty|Not-in-family|             White|Female|      14084|          0|          50|    United-States| >50K|\n",
      "| 42|         Private|159449|   Bachelors|          13|  Married-civ-spouse|  Exec-managerial|      Husband|             White|  Male|       5178|          0|          40|    United-States| >50K|\n",
      "| 37|         Private|280464|Some-college|          10|  Married-civ-spouse|  Exec-managerial|      Husband|             Black|  Male|          0|          0|          80|    United-States| >50K|\n",
      "| 30|       State-gov|141297|   Bachelors|          13|  Married-civ-spouse|   Prof-specialty|      Husband|Asian-Pac-Islander|  Male|          0|          0|          40|            India| >50K|\n",
      "| 23|         Private|122272|   Bachelors|          13|       Never-married|     Adm-clerical|    Own-child|             White|Female|          0|          0|          30|    United-States|<=50K|\n",
      "| 32|         Private|205019|  Assoc-acdm|          12|       Never-married|            Sales|Not-in-family|             Black|  Male|          0|          0|          50|    United-States|<=50K|\n",
      "| 40|         Private|121772|   Assoc-voc|          11|  Married-civ-spouse|     Craft-repair|      Husband|Asian-Pac-Islander|  Male|          0|          0|          40|No country Native| >50K|\n",
      "+---+----------------+------+------------+------------+--------------------+-----------------+-------------+------------------+------+-----------+-----------+------------+-----------------+-----+\n",
      "only showing top 15 rows\n",
      "\n"
     ]
    }
   ],
   "source": [
    "df_pyspark_NoNull.show(15)"
   ]
  },
  {
   "cell_type": "code",
   "execution_count": 56,
   "id": "d5fdf790",
   "metadata": {},
   "outputs": [
    {
     "name": "stdout",
     "output_type": "stream",
     "text": [
      "+---+----------------+------+------------+------------+--------------------+-----------------+-------------+------------------+------+-----------+-----------+------------+-------------+-----+\n",
      "|age|       workclass|fnlwgt|   education|educationNum|       maritalStatus|       occupation| relationship|              race|   sex|capitalGain|capitalLoss|hoursPerWeek|nativeCountry|Mayor|\n",
      "+---+----------------+------+------------+------------+--------------------+-----------------+-------------+------------------+------+-----------+-----------+------------+-------------+-----+\n",
      "| 39|       State-gov| 77516|   Bachelors|          13|       Never-married|     Adm-clerical|Not-in-family|             White|  Male|       2174|          0|          40|United-States|<=50K|\n",
      "| 50|Self-emp-not-inc| 83311|   Bachelors|          13|  Married-civ-spouse|  Exec-managerial|      Husband|             White|  Male|          0|          0|          13|United-States|<=50K|\n",
      "| 38|         Private|215646|     HS-grad|           9|            Divorced|Handlers-cleaners|Not-in-family|             White|  Male|          0|          0|          40|United-States|<=50K|\n",
      "| 53|         Private|234721|        11th|           7|  Married-civ-spouse|Handlers-cleaners|      Husband|             Black|  Male|          0|          0|          40|United-States|<=50K|\n",
      "| 28|         Private|338409|   Bachelors|          13|  Married-civ-spouse|   Prof-specialty|         Wife|             Black|Female|          0|          0|          40|         Cuba|<=50K|\n",
      "| 37|         Private|284582|     Masters|          14|  Married-civ-spouse|  Exec-managerial|         Wife|             White|Female|          0|          0|          40|United-States|<=50K|\n",
      "| 49|         Private|160187|         9th|           5|Married-spouse-ab...|    Other-service|Not-in-family|             Black|Female|          0|          0|          16|      Jamaica|<=50K|\n",
      "| 52|Self-emp-not-inc|209642|     HS-grad|           9|  Married-civ-spouse|  Exec-managerial|      Husband|             White|  Male|          0|          0|          45|United-States| >50K|\n",
      "| 31|         Private| 45781|     Masters|          14|       Never-married|   Prof-specialty|Not-in-family|             White|Female|      14084|          0|          50|United-States| >50K|\n",
      "| 42|         Private|159449|   Bachelors|          13|  Married-civ-spouse|  Exec-managerial|      Husband|             White|  Male|       5178|          0|          40|United-States| >50K|\n",
      "| 37|         Private|280464|Some-college|          10|  Married-civ-spouse|  Exec-managerial|      Husband|             Black|  Male|          0|          0|          80|United-States| >50K|\n",
      "| 30|       State-gov|141297|   Bachelors|          13|  Married-civ-spouse|   Prof-specialty|      Husband|Asian-Pac-Islander|  Male|          0|          0|          40|        India| >50K|\n",
      "| 23|         Private|122272|   Bachelors|          13|       Never-married|     Adm-clerical|    Own-child|             White|Female|          0|          0|          30|United-States|<=50K|\n",
      "| 32|         Private|205019|  Assoc-acdm|          12|       Never-married|            Sales|Not-in-family|             Black|  Male|          0|          0|          50|United-States|<=50K|\n",
      "| 40|         Private|121772|   Assoc-voc|          11|  Married-civ-spouse|     Craft-repair|      Husband|Asian-Pac-Islander|  Male|          0|          0|          40|         null| >50K|\n",
      "+---+----------------+------+------------+------------+--------------------+-----------------+-------------+------------------+------+-----------+-----------+------------+-------------+-----+\n",
      "only showing top 15 rows\n",
      "\n"
     ]
    }
   ],
   "source": [
    "df_pyspark.show(15)"
   ]
  },
  {
   "cell_type": "code",
   "execution_count": 41,
   "id": "f4a9ac4e",
   "metadata": {},
   "outputs": [],
   "source": [
    "df_pyspark_DropNA_any2= df_pyspark_NoNull.na.drop(how='any')"
   ]
  },
  {
   "cell_type": "code",
   "execution_count": 58,
   "id": "5740bbcb",
   "metadata": {},
   "outputs": [
    {
     "data": {
      "text/plain": [
       "30162"
      ]
     },
     "execution_count": 58,
     "metadata": {},
     "output_type": "execute_result"
    }
   ],
   "source": [
    "df_pyspark_DropNA_any.count()"
   ]
  },
  {
   "cell_type": "code",
   "execution_count": 46,
   "id": "2ba1af87",
   "metadata": {},
   "outputs": [
    {
     "data": {
      "text/plain": [
       "32561"
      ]
     },
     "execution_count": 46,
     "metadata": {},
     "output_type": "execute_result"
    }
   ],
   "source": [
    "df_pyspark_DropNA_any2.count()"
   ]
  },
  {
   "cell_type": "code",
   "execution_count": 47,
   "id": "92342a34",
   "metadata": {},
   "outputs": [
    {
     "data": {
      "text/plain": [
       "32561"
      ]
     },
     "execution_count": 47,
     "metadata": {},
     "output_type": "execute_result"
    }
   ],
   "source": [
    "df_pyspark_NoNull.count()"
   ]
  }
 ],
 "metadata": {
  "kernelspec": {
   "display_name": "Python 3 (ipykernel)",
   "language": "python",
   "name": "python3"
  },
  "language_info": {
   "codemirror_mode": {
    "name": "ipython",
    "version": 3
   },
   "file_extension": ".py",
   "mimetype": "text/x-python",
   "name": "python",
   "nbconvert_exporter": "python",
   "pygments_lexer": "ipython3",
   "version": "3.9.0"
  }
 },
 "nbformat": 4,
 "nbformat_minor": 5
}
