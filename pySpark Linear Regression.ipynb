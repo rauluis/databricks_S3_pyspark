{
 "cells": [
  {
   "cell_type": "markdown",
   "id": "fca88206",
   "metadata": {},
   "source": [
    "## Importacion de librerias"
   ]
  },
  {
   "cell_type": "code",
   "execution_count": 1,
   "id": "74b46c93",
   "metadata": {},
   "outputs": [],
   "source": [
    "from pyspark.sql import SparkSession\n",
    "from pyspark import SparkFiles"
   ]
  },
  {
   "cell_type": "markdown",
   "id": "3e4a0771",
   "metadata": {},
   "source": [
    "## Creacion de sesion"
   ]
  },
  {
   "cell_type": "code",
   "execution_count": 2,
   "id": "1f5c6373",
   "metadata": {},
   "outputs": [],
   "source": [
    "spark = SparkSession.builder.appName('ML2_example').getOrCreate()"
   ]
  },
  {
   "cell_type": "markdown",
   "id": "33c05f7c",
   "metadata": {},
   "source": [
    "## URL desde uci usando carbon_nanotubes"
   ]
  },
  {
   "cell_type": "code",
   "execution_count": 3,
   "id": "4b31a2d5",
   "metadata": {},
   "outputs": [],
   "source": [
    "url=\"https://archive.ics.uci.edu/ml/machine-learning-databases/00448/carbon_nanotubes.csv\""
   ]
  },
  {
   "cell_type": "markdown",
   "id": "c644511d",
   "metadata": {},
   "source": [
    "## Comprobar si el url es el correcto y si la estraccion del archivo se realiza"
   ]
  },
  {
   "cell_type": "code",
   "execution_count": 4,
   "id": "132b5322",
   "metadata": {},
   "outputs": [
    {
     "name": "stdout",
     "output_type": "stream",
     "text": [
      "https://archive.ics.uci.edu/ml/machine-learning-databases/00448/carbon_nanotubes.csv\n"
     ]
    }
   ],
   "source": [
    "spark.sparkContext.addFile(url)\n",
    "print(url)"
   ]
  },
  {
   "cell_type": "code",
   "execution_count": 5,
   "id": "c1851402",
   "metadata": {},
   "outputs": [],
   "source": [
    "a= SparkFiles.get(\"carbon_nanotubes.csv\")"
   ]
  },
  {
   "cell_type": "code",
   "execution_count": 6,
   "id": "c9a6b9db",
   "metadata": {},
   "outputs": [
    {
     "name": "stdout",
     "output_type": "stream",
     "text": [
      "C:\\Users\\Rizo\\AppData\\Local\\Temp\\spark-4cf8dcd0-d058-4246-a085-78c0393a8080\\userFiles-745c13bb-1c1a-4ba1-878b-0a72089e127d\\carbon_nanotubes.csv\n"
     ]
    }
   ],
   "source": [
    "print(a)"
   ]
  },
  {
   "cell_type": "code",
   "execution_count": 7,
   "id": "7595e607",
   "metadata": {},
   "outputs": [],
   "source": [
    "training = spark.read.csv(SparkFiles.get(\"carbon_nanotubes.csv\"), header=True,inferSchema= True,sep=';',)\n"
   ]
  },
  {
   "cell_type": "code",
   "execution_count": 8,
   "id": "9f790949",
   "metadata": {},
   "outputs": [
    {
     "name": "stdout",
     "output_type": "stream",
     "text": [
      "+---------------+---------------+---------------------------+---------------------------+---------------------------+--------------------------------+--------------------------------+--------------------------------+\n",
      "|Chiral indice n|Chiral indice m|Initial atomic coordinate u|Initial atomic coordinate v|Initial atomic coordinate w|Calculated atomic coordinates u'|Calculated atomic coordinates v'|Calculated atomic coordinates w'|\n",
      "+---------------+---------------+---------------------------+---------------------------+---------------------------+--------------------------------+--------------------------------+--------------------------------+\n",
      "|              2|              1|                   0,679005|                   0,701318|                   0,017033|                        0,721039|                        0,730232|                        0,017014|\n",
      "|              2|              1|                   0,717298|                   0,642129|                   0,231319|                        0,738414|                         0,65675|                        0,232369|\n",
      "|              2|              1|                   0,489336|                   0,303751|                   0,088462|                        0,477676|                        0,263221|                        0,088712|\n",
      "|              2|              1|                   0,413957|                   0,632996|                   0,040843|                        0,408823|                        0,657897|                        0,039796|\n",
      "|              2|              1|                   0,334292|                   0,543401|                    0,15989|                        0,303349|                        0,558807|                        0,157373|\n",
      "|              2|              1|                   0,510664|                   0,696249|                   0,255128|                        0,496977|                        0,725608|                         0,25597|\n",
      "|              2|              1|                   0,413957|                   0,632996|                   0,374176|                        0,390878|                        0,657645|                        0,374735|\n",
      "|              2|              1|                   0,712552|                    0,55479|                   0,112271|                        0,750056|                        0,561494|                        0,114944|\n",
      "|              2|              1|                   0,320995|                   0,298682|                     0,1837|                        0,281301|                        0,261433|                        0,182779|\n",
      "|              2|              1|                   0,394742|                   0,279367|                   0,302747|                         0,35086|                          0,2335|                        0,302196|\n",
      "|              2|              1|                   0,282702|                   0,357871|                   0,397985|                        0,229138|                        0,328729|                        0,398581|\n",
      "|              2|              1|                   0,320995|                   0,298682|                   0,517033|                        0,278752|                        0,269615|                         0,51733|\n",
      "|              2|              1|                   0,605258|                   0,720633|                   0,469414|                        0,613415|                        0,760009|                        0,469452|\n",
      "|              2|              1|                   0,510664|                   0,696249|                   0,588462|                        0,521991|                        0,736991|                        0,588946|\n",
      "|              2|              1|                   0,679005|                   0,701318|                     0,6837|                        0,718811|                        0,738577|                         0,68244|\n",
      "|              2|              1|                   0,605258|                   0,720633|                   0,802747|                        0,649178|                        0,766301|                         0,80193|\n",
      "|              2|              1|                   0,665708|                   0,456599|                   0,326557|                        0,680389|                        0,444562|                        0,327502|\n",
      "|              2|              1|                   0,712552|                    0,55479|                   0,445605|                        0,737216|                        0,552056|                        0,443517|\n",
      "|              2|              1|                   0,586043|                   0,367004|                   0,540843|                        0,591153|                        0,342069|                        0,540172|\n",
      "|              2|              1|                   0,665708|                   0,456599|                    0,65989|                        0,697242|                        0,441516|                        0,657521|\n",
      "+---------------+---------------+---------------------------+---------------------------+---------------------------+--------------------------------+--------------------------------+--------------------------------+\n",
      "only showing top 20 rows\n",
      "\n"
     ]
    }
   ],
   "source": [
    "training.show()"
   ]
  },
  {
   "cell_type": "code",
   "execution_count": 9,
   "id": "4e47f6f5",
   "metadata": {
    "scrolled": true
   },
   "outputs": [
    {
     "name": "stdout",
     "output_type": "stream",
     "text": [
      "root\n",
      " |-- Chiral indice n: integer (nullable = true)\n",
      " |-- Chiral indice m: integer (nullable = true)\n",
      " |-- Initial atomic coordinate u: string (nullable = true)\n",
      " |-- Initial atomic coordinate v: string (nullable = true)\n",
      " |-- Initial atomic coordinate w: string (nullable = true)\n",
      " |-- Calculated atomic coordinates u': string (nullable = true)\n",
      " |-- Calculated atomic coordinates v': string (nullable = true)\n",
      " |-- Calculated atomic coordinates w': string (nullable = true)\n",
      "\n"
     ]
    }
   ],
   "source": [
    "training.printSchema()"
   ]
  },
  {
   "cell_type": "markdown",
   "id": "5156cada",
   "metadata": {},
   "source": [
    "## Transformar datos string a datos decimales"
   ]
  },
  {
   "cell_type": "code",
   "execution_count": 10,
   "id": "579c393f",
   "metadata": {},
   "outputs": [],
   "source": [
    "import pyspark.sql.functions as F\n",
    "\n",
    "training=training.withColumn(\"Initial atomic coordinate u\",F.regexp_replace(training['Initial atomic coordinate u'], ',', '.').cast('decimal(12,6)'))"
   ]
  },
  {
   "cell_type": "code",
   "execution_count": 11,
   "id": "49da926e",
   "metadata": {},
   "outputs": [
    {
     "name": "stdout",
     "output_type": "stream",
     "text": [
      "root\n",
      " |-- Chiral indice n: integer (nullable = true)\n",
      " |-- Chiral indice m: integer (nullable = true)\n",
      " |-- Initial atomic coordinate u: decimal(12,6) (nullable = true)\n",
      " |-- Initial atomic coordinate v: string (nullable = true)\n",
      " |-- Initial atomic coordinate w: string (nullable = true)\n",
      " |-- Calculated atomic coordinates u': string (nullable = true)\n",
      " |-- Calculated atomic coordinates v': string (nullable = true)\n",
      " |-- Calculated atomic coordinates w': string (nullable = true)\n",
      "\n"
     ]
    }
   ],
   "source": [
    "training.printSchema()"
   ]
  },
  {
   "cell_type": "code",
   "execution_count": 12,
   "id": "eda3864d",
   "metadata": {},
   "outputs": [
    {
     "name": "stdout",
     "output_type": "stream",
     "text": [
      "+---------------+---------------+---------------------------+---------------------------+---------------------------+--------------------------------+--------------------------------+--------------------------------+\n",
      "|Chiral indice n|Chiral indice m|Initial atomic coordinate u|Initial atomic coordinate v|Initial atomic coordinate w|Calculated atomic coordinates u'|Calculated atomic coordinates v'|Calculated atomic coordinates w'|\n",
      "+---------------+---------------+---------------------------+---------------------------+---------------------------+--------------------------------+--------------------------------+--------------------------------+\n",
      "|              2|              1|                   0.679005|                   0,701318|                   0,017033|                        0,721039|                        0,730232|                        0,017014|\n",
      "|              2|              1|                   0.717298|                   0,642129|                   0,231319|                        0,738414|                         0,65675|                        0,232369|\n",
      "|              2|              1|                   0.489336|                   0,303751|                   0,088462|                        0,477676|                        0,263221|                        0,088712|\n",
      "|              2|              1|                   0.413957|                   0,632996|                   0,040843|                        0,408823|                        0,657897|                        0,039796|\n",
      "|              2|              1|                   0.334292|                   0,543401|                    0,15989|                        0,303349|                        0,558807|                        0,157373|\n",
      "|              2|              1|                   0.510664|                   0,696249|                   0,255128|                        0,496977|                        0,725608|                         0,25597|\n",
      "|              2|              1|                   0.413957|                   0,632996|                   0,374176|                        0,390878|                        0,657645|                        0,374735|\n",
      "|              2|              1|                   0.712552|                    0,55479|                   0,112271|                        0,750056|                        0,561494|                        0,114944|\n",
      "|              2|              1|                   0.320995|                   0,298682|                     0,1837|                        0,281301|                        0,261433|                        0,182779|\n",
      "|              2|              1|                   0.394742|                   0,279367|                   0,302747|                         0,35086|                          0,2335|                        0,302196|\n",
      "|              2|              1|                   0.282702|                   0,357871|                   0,397985|                        0,229138|                        0,328729|                        0,398581|\n",
      "|              2|              1|                   0.320995|                   0,298682|                   0,517033|                        0,278752|                        0,269615|                         0,51733|\n",
      "|              2|              1|                   0.605258|                   0,720633|                   0,469414|                        0,613415|                        0,760009|                        0,469452|\n",
      "|              2|              1|                   0.510664|                   0,696249|                   0,588462|                        0,521991|                        0,736991|                        0,588946|\n",
      "|              2|              1|                   0.679005|                   0,701318|                     0,6837|                        0,718811|                        0,738577|                         0,68244|\n",
      "|              2|              1|                   0.605258|                   0,720633|                   0,802747|                        0,649178|                        0,766301|                         0,80193|\n",
      "|              2|              1|                   0.665708|                   0,456599|                   0,326557|                        0,680389|                        0,444562|                        0,327502|\n",
      "|              2|              1|                   0.712552|                    0,55479|                   0,445605|                        0,737216|                        0,552056|                        0,443517|\n",
      "|              2|              1|                   0.586043|                   0,367004|                   0,540843|                        0,591153|                        0,342069|                        0,540172|\n",
      "|              2|              1|                   0.665708|                   0,456599|                    0,65989|                        0,697242|                        0,441516|                        0,657521|\n",
      "+---------------+---------------+---------------------------+---------------------------+---------------------------+--------------------------------+--------------------------------+--------------------------------+\n",
      "only showing top 20 rows\n",
      "\n"
     ]
    }
   ],
   "source": [
    "training.show()"
   ]
  },
  {
   "cell_type": "markdown",
   "id": "ff25c767",
   "metadata": {},
   "source": [
    "## Transformacion de todas las columnas  a decimal"
   ]
  },
  {
   "cell_type": "code",
   "execution_count": 13,
   "id": "19e6fc62",
   "metadata": {},
   "outputs": [],
   "source": [
    "\n",
    "training=training.withColumn(\"Initial atomic coordinate v\",F.regexp_replace(training['Initial atomic coordinate v'], ',', '.').cast('decimal(12,6)'))\n",
    "training=training.withColumn(\"Initial atomic coordinate w\",F.regexp_replace(training['Initial atomic coordinate w'], ',', '.').cast('decimal(12,6)'))\n",
    "training=training.withColumn(\"Calculated atomic coordinates u'\",F.regexp_replace(training[\"Calculated atomic coordinates u'\"], ',', '.').cast('decimal(12,6)'))\n",
    "training=training.withColumn(\"Calculated atomic coordinates v'\",F.regexp_replace(training[\"Calculated atomic coordinates v'\"], ',', '.').cast('decimal(12,6)'))\n",
    "training=training.withColumn(\"Calculated atomic coordinates w'\",F.regexp_replace(training[\"Calculated atomic coordinates w'\"], ',', '.').cast('decimal(12,6)'))"
   ]
  },
  {
   "cell_type": "code",
   "execution_count": 14,
   "id": "e0fab19e",
   "metadata": {},
   "outputs": [
    {
     "name": "stdout",
     "output_type": "stream",
     "text": [
      "root\n",
      " |-- Chiral indice n: integer (nullable = true)\n",
      " |-- Chiral indice m: integer (nullable = true)\n",
      " |-- Initial atomic coordinate u: decimal(12,6) (nullable = true)\n",
      " |-- Initial atomic coordinate v: decimal(12,6) (nullable = true)\n",
      " |-- Initial atomic coordinate w: decimal(12,6) (nullable = true)\n",
      " |-- Calculated atomic coordinates u': decimal(12,6) (nullable = true)\n",
      " |-- Calculated atomic coordinates v': decimal(12,6) (nullable = true)\n",
      " |-- Calculated atomic coordinates w': decimal(12,6) (nullable = true)\n",
      "\n"
     ]
    }
   ],
   "source": [
    "training.printSchema()"
   ]
  },
  {
   "cell_type": "code",
   "execution_count": 15,
   "id": "5a73e7a1",
   "metadata": {},
   "outputs": [
    {
     "name": "stdout",
     "output_type": "stream",
     "text": [
      "+---------------+---------------+---------------------------+---------------------------+---------------------------+--------------------------------+--------------------------------+--------------------------------+\n",
      "|Chiral indice n|Chiral indice m|Initial atomic coordinate u|Initial atomic coordinate v|Initial atomic coordinate w|Calculated atomic coordinates u'|Calculated atomic coordinates v'|Calculated atomic coordinates w'|\n",
      "+---------------+---------------+---------------------------+---------------------------+---------------------------+--------------------------------+--------------------------------+--------------------------------+\n",
      "|              2|              1|                   0.679005|                   0.701318|                   0.017033|                        0.721039|                        0.730232|                        0.017014|\n",
      "|              2|              1|                   0.717298|                   0.642129|                   0.231319|                        0.738414|                        0.656750|                        0.232369|\n",
      "|              2|              1|                   0.489336|                   0.303751|                   0.088462|                        0.477676|                        0.263221|                        0.088712|\n",
      "|              2|              1|                   0.413957|                   0.632996|                   0.040843|                        0.408823|                        0.657897|                        0.039796|\n",
      "|              2|              1|                   0.334292|                   0.543401|                   0.159890|                        0.303349|                        0.558807|                        0.157373|\n",
      "|              2|              1|                   0.510664|                   0.696249|                   0.255128|                        0.496977|                        0.725608|                        0.255970|\n",
      "|              2|              1|                   0.413957|                   0.632996|                   0.374176|                        0.390878|                        0.657645|                        0.374735|\n",
      "|              2|              1|                   0.712552|                   0.554790|                   0.112271|                        0.750056|                        0.561494|                        0.114944|\n",
      "|              2|              1|                   0.320995|                   0.298682|                   0.183700|                        0.281301|                        0.261433|                        0.182779|\n",
      "|              2|              1|                   0.394742|                   0.279367|                   0.302747|                        0.350860|                        0.233500|                        0.302196|\n",
      "|              2|              1|                   0.282702|                   0.357871|                   0.397985|                        0.229138|                        0.328729|                        0.398581|\n",
      "|              2|              1|                   0.320995|                   0.298682|                   0.517033|                        0.278752|                        0.269615|                        0.517330|\n",
      "|              2|              1|                   0.605258|                   0.720633|                   0.469414|                        0.613415|                        0.760009|                        0.469452|\n",
      "|              2|              1|                   0.510664|                   0.696249|                   0.588462|                        0.521991|                        0.736991|                        0.588946|\n",
      "|              2|              1|                   0.679005|                   0.701318|                   0.683700|                        0.718811|                        0.738577|                        0.682440|\n",
      "|              2|              1|                   0.605258|                   0.720633|                   0.802747|                        0.649178|                        0.766301|                        0.801930|\n",
      "|              2|              1|                   0.665708|                   0.456599|                   0.326557|                        0.680389|                        0.444562|                        0.327502|\n",
      "|              2|              1|                   0.712552|                   0.554790|                   0.445605|                        0.737216|                        0.552056|                        0.443517|\n",
      "|              2|              1|                   0.586043|                   0.367004|                   0.540843|                        0.591153|                        0.342069|                        0.540172|\n",
      "|              2|              1|                   0.665708|                   0.456599|                   0.659890|                        0.697242|                        0.441516|                        0.657521|\n",
      "+---------------+---------------+---------------------------+---------------------------+---------------------------+--------------------------------+--------------------------------+--------------------------------+\n",
      "only showing top 20 rows\n",
      "\n"
     ]
    }
   ],
   "source": [
    "training.show()"
   ]
  },
  {
   "cell_type": "markdown",
   "id": "39256af3",
   "metadata": {},
   "source": [
    "## Importar librerias de matplotlib para graficar"
   ]
  },
  {
   "cell_type": "code",
   "execution_count": 16,
   "id": "54017ee0",
   "metadata": {},
   "outputs": [],
   "source": [
    "import matplotlib.pyplot as plt\n"
   ]
  },
  {
   "cell_type": "code",
   "execution_count": 17,
   "id": "2c833413",
   "metadata": {},
   "outputs": [],
   "source": [
    "p1=training.toPandas()\n"
   ]
  },
  {
   "cell_type": "code",
   "execution_count": 27,
   "id": "b087c522",
   "metadata": {},
   "outputs": [],
   "source": [
    "X = p1['Initial atomic coordinate u']\n",
    "Y= p1[\"Calculated atomic coordinates u'\"]"
   ]
  },
  {
   "cell_type": "code",
   "execution_count": 28,
   "id": "e99724a4",
   "metadata": {},
   "outputs": [
    {
     "data": {
      "text/plain": [
       "<matplotlib.collections.PathCollection at 0x2728c9a99d0>"
      ]
     },
     "execution_count": 28,
     "metadata": {},
     "output_type": "execute_result"
    },
    {
     "data": {
      "image/png": "[encoded data removed]",
      "text/plain": [
       "<Figure size 432x288 with 1 Axes>"
      ]
     },
     "metadata": {
      "needs_background": "light"
     },
     "output_type": "display_data"
    }
   ],
   "source": [
    "plt.scatter(X,Y, color=\"red\")\n"
   ]
  },
  {
   "cell_type": "markdown",
   "id": "81df8179",
   "metadata": {},
   "source": [
    "## Importar librerias de spark.ml.feature "
   ]
  },
  {
   "cell_type": "code",
   "execution_count": 29,
   "id": "ae234679",
   "metadata": {},
   "outputs": [],
   "source": [
    "from pyspark.ml.feature import VectorAssembler\n",
    "feature_assembler = VectorAssembler(inputCols=[\"Initial atomic coordinate u\",\"Calculated atomic coordinates u'\"], outputCol = \"feature_vector\")"
   ]
  },
  {
   "cell_type": "code",
   "execution_count": 30,
   "id": "f17e98d6",
   "metadata": {},
   "outputs": [],
   "source": [
    "output = feature_assembler.transform(training)"
   ]
  },
  {
   "cell_type": "code",
   "execution_count": 31,
   "id": "6869f12e",
   "metadata": {},
   "outputs": [
    {
     "name": "stdout",
     "output_type": "stream",
     "text": [
      "+---------------+---------------+---------------------------+---------------------------+---------------------------+--------------------------------+--------------------------------+--------------------------------+-------------------+\n",
      "|Chiral indice n|Chiral indice m|Initial atomic coordinate u|Initial atomic coordinate v|Initial atomic coordinate w|Calculated atomic coordinates u'|Calculated atomic coordinates v'|Calculated atomic coordinates w'|     feature_vector|\n",
      "+---------------+---------------+---------------------------+---------------------------+---------------------------+--------------------------------+--------------------------------+--------------------------------+-------------------+\n",
      "|              2|              1|                   0.679005|                   0.701318|                   0.017033|                        0.721039|                        0.730232|                        0.017014|[0.679005,0.721039]|\n",
      "|              2|              1|                   0.717298|                   0.642129|                   0.231319|                        0.738414|                        0.656750|                        0.232369|[0.717298,0.738414]|\n",
      "|              2|              1|                   0.489336|                   0.303751|                   0.088462|                        0.477676|                        0.263221|                        0.088712|[0.489336,0.477676]|\n",
      "|              2|              1|                   0.413957|                   0.632996|                   0.040843|                        0.408823|                        0.657897|                        0.039796|[0.413957,0.408823]|\n",
      "|              2|              1|                   0.334292|                   0.543401|                   0.159890|                        0.303349|                        0.558807|                        0.157373|[0.334292,0.303349]|\n",
      "|              2|              1|                   0.510664|                   0.696249|                   0.255128|                        0.496977|                        0.725608|                        0.255970|[0.510664,0.496977]|\n",
      "|              2|              1|                   0.413957|                   0.632996|                   0.374176|                        0.390878|                        0.657645|                        0.374735|[0.413957,0.390878]|\n",
      "|              2|              1|                   0.712552|                   0.554790|                   0.112271|                        0.750056|                        0.561494|                        0.114944|[0.712552,0.750056]|\n",
      "|              2|              1|                   0.320995|                   0.298682|                   0.183700|                        0.281301|                        0.261433|                        0.182779|[0.320995,0.281301]|\n",
      "|              2|              1|                   0.394742|                   0.279367|                   0.302747|                        0.350860|                        0.233500|                        0.302196| [0.394742,0.35086]|\n",
      "|              2|              1|                   0.282702|                   0.357871|                   0.397985|                        0.229138|                        0.328729|                        0.398581|[0.282702,0.229138]|\n",
      "|              2|              1|                   0.320995|                   0.298682|                   0.517033|                        0.278752|                        0.269615|                        0.517330|[0.320995,0.278752]|\n",
      "|              2|              1|                   0.605258|                   0.720633|                   0.469414|                        0.613415|                        0.760009|                        0.469452|[0.605258,0.613415]|\n",
      "|              2|              1|                   0.510664|                   0.696249|                   0.588462|                        0.521991|                        0.736991|                        0.588946|[0.510664,0.521991]|\n",
      "|              2|              1|                   0.679005|                   0.701318|                   0.683700|                        0.718811|                        0.738577|                        0.682440|[0.679005,0.718811]|\n",
      "|              2|              1|                   0.605258|                   0.720633|                   0.802747|                        0.649178|                        0.766301|                        0.801930|[0.605258,0.649178]|\n",
      "|              2|              1|                   0.665708|                   0.456599|                   0.326557|                        0.680389|                        0.444562|                        0.327502|[0.665708,0.680389]|\n",
      "|              2|              1|                   0.712552|                   0.554790|                   0.445605|                        0.737216|                        0.552056|                        0.443517|[0.712552,0.737216]|\n",
      "|              2|              1|                   0.586043|                   0.367004|                   0.540843|                        0.591153|                        0.342069|                        0.540172|[0.586043,0.591153]|\n",
      "|              2|              1|                   0.665708|                   0.456599|                   0.659890|                        0.697242|                        0.441516|                        0.657521|[0.665708,0.697242]|\n",
      "+---------------+---------------+---------------------------+---------------------------+---------------------------+--------------------------------+--------------------------------+--------------------------------+-------------------+\n",
      "only showing top 20 rows\n",
      "\n"
     ]
    }
   ],
   "source": [
    "output.show()"
   ]
  },
  {
   "cell_type": "code",
   "execution_count": 32,
   "id": "e0b54202",
   "metadata": {},
   "outputs": [
    {
     "data": {
      "text/plain": [
       "['Chiral indice n',\n",
       " 'Chiral indice m',\n",
       " 'Initial atomic coordinate u',\n",
       " 'Initial atomic coordinate v',\n",
       " 'Initial atomic coordinate w',\n",
       " \"Calculated atomic coordinates u'\",\n",
       " \"Calculated atomic coordinates v'\",\n",
       " \"Calculated atomic coordinates w'\",\n",
       " 'feature_vector']"
      ]
     },
     "execution_count": 32,
     "metadata": {},
     "output_type": "execute_result"
    }
   ],
   "source": [
    "output.columns"
   ]
  },
  {
   "cell_type": "code",
   "execution_count": 33,
   "id": "f485fc70",
   "metadata": {},
   "outputs": [],
   "source": [
    "dataset = output.select(\"feature_vector\",\"Chiral indice n\")"
   ]
  },
  {
   "cell_type": "code",
   "execution_count": 34,
   "id": "4a297ba7",
   "metadata": {},
   "outputs": [
    {
     "name": "stdout",
     "output_type": "stream",
     "text": [
      "+-------------------+---------------+\n",
      "|     feature_vector|Chiral indice n|\n",
      "+-------------------+---------------+\n",
      "|[0.679005,0.721039]|              2|\n",
      "|[0.717298,0.738414]|              2|\n",
      "|[0.489336,0.477676]|              2|\n",
      "|[0.413957,0.408823]|              2|\n",
      "|[0.334292,0.303349]|              2|\n",
      "|[0.510664,0.496977]|              2|\n",
      "|[0.413957,0.390878]|              2|\n",
      "|[0.712552,0.750056]|              2|\n",
      "|[0.320995,0.281301]|              2|\n",
      "| [0.394742,0.35086]|              2|\n",
      "|[0.282702,0.229138]|              2|\n",
      "|[0.320995,0.278752]|              2|\n",
      "|[0.605258,0.613415]|              2|\n",
      "|[0.510664,0.521991]|              2|\n",
      "|[0.679005,0.718811]|              2|\n",
      "|[0.605258,0.649178]|              2|\n",
      "|[0.665708,0.680389]|              2|\n",
      "|[0.712552,0.737216]|              2|\n",
      "|[0.586043,0.591153]|              2|\n",
      "|[0.665708,0.697242]|              2|\n",
      "+-------------------+---------------+\n",
      "only showing top 20 rows\n",
      "\n"
     ]
    }
   ],
   "source": [
    "dataset.show()"
   ]
  },
  {
   "cell_type": "markdown",
   "id": "ce44ed98",
   "metadata": {},
   "source": [
    "## Importacion de librerias para la regresion lineal"
   ]
  },
  {
   "cell_type": "code",
   "execution_count": 35,
   "id": "f3a4f71c",
   "metadata": {},
   "outputs": [],
   "source": [
    "from pyspark.ml.regression import LinearRegression\n",
    "train_data,test_data = dataset.randomSplit([0.75,0.25])"
   ]
  },
  {
   "cell_type": "code",
   "execution_count": 36,
   "id": "3bad5a0f",
   "metadata": {},
   "outputs": [
    {
     "name": "stdout",
     "output_type": "stream",
     "text": [
      "+-------------------+---------------+\n",
      "|     feature_vector|Chiral indice n|\n",
      "+-------------------+---------------+\n",
      "|[0.045149,0.038504]|             12|\n",
      "|[0.046336,0.038757]|             12|\n",
      "|[0.046336,0.040047]|             12|\n",
      "| [0.046505,0.04049]|             12|\n",
      "|[0.046505,0.042528]|             12|\n",
      "| [0.05006,0.043038]|             12|\n",
      "| [0.05006,0.044671]|             12|\n",
      "|[0.050398,0.046617]|             12|\n",
      "|[0.050398,0.046787]|             12|\n",
      "|[0.054695,0.045561]|             12|\n",
      "|  [0.0563,0.050443]|             12|\n",
      "|[0.056805,0.055081]|             12|\n",
      "|[0.057293,0.050475]|             12|\n",
      "|[0.057293,0.053505]|             12|\n",
      "|[0.057712,0.054537]|             10|\n",
      "|[0.057933,0.054456]|             10|\n",
      "|[0.057945,0.054974]|             10|\n",
      "| [0.058609,0.05414]|             10|\n",
      "|[0.058609,0.056117]|             10|\n",
      "|[0.058632,0.053762]|             10|\n",
      "+-------------------+---------------+\n",
      "only showing top 20 rows\n",
      "\n"
     ]
    }
   ],
   "source": [
    "train_data.show()"
   ]
  },
  {
   "cell_type": "code",
   "execution_count": 37,
   "id": "67f501ec",
   "metadata": {},
   "outputs": [
    {
     "name": "stdout",
     "output_type": "stream",
     "text": [
      "+-------------------+---------------+\n",
      "|     feature_vector|Chiral indice n|\n",
      "+-------------------+---------------+\n",
      "|[0.045149,0.038741]|             12|\n",
      "|[0.054695,0.051358]|             12|\n",
      "|[0.055182,0.046241]|             12|\n",
      "|[0.055182,0.049931]|             12|\n",
      "|[0.055832,0.048353]|             12|\n",
      "|[0.055832,0.053515]|             12|\n",
      "|  [0.0563,0.050196]|             12|\n",
      "|[0.056805,0.054358]|             12|\n",
      "|[0.057712,0.054158]|             10|\n",
      "|[0.057933,0.053252]|             10|\n",
      "|[0.057945,0.053361]|             10|\n",
      "| [0.05859,0.051167]|             12|\n",
      "| [0.05859,0.053298]|             12|\n",
      "|[0.059738,0.056166]|             10|\n",
      "|[0.060727,0.056554]|             12|\n",
      "|[0.060727,0.056554]|             12|\n",
      "|[0.060946,0.055301]|             12|\n",
      "|[0.060946,0.055301]|             12|\n",
      "|[0.061019,0.053985]|             12|\n",
      "|[0.062959,0.060005]|             12|\n",
      "+-------------------+---------------+\n",
      "only showing top 20 rows\n",
      "\n"
     ]
    }
   ],
   "source": [
    "test_data.show()"
   ]
  },
  {
   "cell_type": "code",
   "execution_count": 38,
   "id": "24fe4616",
   "metadata": {},
   "outputs": [],
   "source": [
    "regressor = LinearRegression(featuresCol=\"feature_vector\",labelCol=\"Chiral indice n\")\n",
    "regressor = regressor.fit(train_data)"
   ]
  },
  {
   "cell_type": "code",
   "execution_count": 39,
   "id": "fb15cfe0",
   "metadata": {},
   "outputs": [],
   "source": [
    "pred_results = regressor.evaluate(test_data)"
   ]
  },
  {
   "cell_type": "code",
   "execution_count": 40,
   "id": "5245d941",
   "metadata": {},
   "outputs": [
    {
     "name": "stderr",
     "output_type": "stream",
     "text": [
      "C:\\Users\\Rizo\\.virtualenvs\\env-YoQODTt_\\lib\\site-packages\\pyspark\\sql\\context.py:125: FutureWarning: Deprecated in 3.0.0. Use SparkSession.builder.getOrCreate() instead.\n",
      "  warnings.warn(\n"
     ]
    }
   ],
   "source": [
    "p2=pred_results.predictions"
   ]
  },
  {
   "cell_type": "code",
   "execution_count": 41,
   "id": "b96d5793",
   "metadata": {},
   "outputs": [
    {
     "name": "stdout",
     "output_type": "stream",
     "text": [
      "+-------------------+---------------+-----------------+\n",
      "|     feature_vector|Chiral indice n|       prediction|\n",
      "+-------------------+---------------+-----------------+\n",
      "|[0.045149,0.038741]|             12|8.195673110081508|\n",
      "|[0.054695,0.051358]|             12|8.208359454551669|\n",
      "|[0.055182,0.046241]|             12|8.185278515874918|\n",
      "|[0.055182,0.049931]|             12|8.200477590606814|\n",
      "|[0.055832,0.048353]|             12| 8.19130299416236|\n",
      "|[0.055832,0.053515]|             12|8.212565222825246|\n",
      "|  [0.0563,0.050196]|             12| 8.19696841628828|\n",
      "|[0.056805,0.054358]|             12| 8.21203351772288|\n",
      "|[0.057712,0.054158]|             10|8.207477303664254|\n",
      "|[0.057933,0.053252]|             10|8.202836056284537|\n",
      "|[0.057945,0.053361]|             10|8.203235644774558|\n",
      "| [0.05859,0.051167]|             12|8.191544325829422|\n",
      "| [0.05859,0.053298]|             12|8.200321894461853|\n",
      "|[0.059738,0.056166]|             10|8.207410998594035|\n",
      "|[0.060727,0.056554]|             12|8.204939310882867|\n",
      "|[0.060727,0.056554]|             12|8.204939310882867|\n",
      "|[0.060946,0.055301]|             12|8.198877004064387|\n",
      "|[0.060946,0.055301]|             12|8.198877004064387|\n",
      "|[0.061019,0.053985]|             12| 8.19315600871094|\n",
      "|[0.062959,0.060005]|             12|8.209968993817002|\n",
      "+-------------------+---------------+-----------------+\n",
      "only showing top 20 rows\n",
      "\n"
     ]
    }
   ],
   "source": [
    "p2.show()"
   ]
  },
  {
   "cell_type": "code",
   "execution_count": 42,
   "id": "7523d48e",
   "metadata": {},
   "outputs": [
    {
     "data": {
      "text/plain": [
       "['feature_vector', 'Chiral indice n', 'prediction']"
      ]
     },
     "execution_count": 42,
     "metadata": {},
     "output_type": "execute_result"
    }
   ],
   "source": [
    "p2.columns"
   ]
  },
  {
   "cell_type": "code",
   "execution_count": 43,
   "id": "99c1bcea",
   "metadata": {},
   "outputs": [
    {
     "data": {
      "text/plain": [
       "(1.71359945160923, 4.468784691202665)"
      ]
     },
     "execution_count": 43,
     "metadata": {},
     "output_type": "execute_result"
    }
   ],
   "source": [
    "pred_results.meanAbsoluteError,pred_results.meanSquaredError"
   ]
  }
 ],
 "metadata": {
  "kernelspec": {
   "display_name": "Python 3 (ipykernel)",
   "language": "python",
   "name": "python3"
  },
  "language_info": {
   "codemirror_mode": {
    "name": "ipython",
    "version": 3
   },
   "file_extension": ".py",
   "mimetype": "text/x-python",
   "name": "python",
   "nbconvert_exporter": "python",
   "pygments_lexer": "ipython3",
   "version": "3.9.0"
  }
 },
 "nbformat": 4,
 "nbformat_minor": 5
}
