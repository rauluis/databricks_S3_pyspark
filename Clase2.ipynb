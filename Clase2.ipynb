{
 "cells": [
  {
   "cell_type": "code",
   "execution_count": null,
   "id": "3e9777f3",
   "metadata": {},
   "outputs": [],
   "source": [
    "from pyspark.sql import SparkSession\n"
   ]
  },
  {
   "cell_type": "code",
   "execution_count": null,
   "id": "4f82d345",
   "metadata": {},
   "outputs": [],
   "source": [
    "spark = SparkSession.builder.appName('Practice').getOrCreate()"
   ]
  },
  {
   "cell_type": "code",
   "execution_count": 7,
   "id": "d608600a",
   "metadata": {},
   "outputs": [],
   "source": [
    "df_pyspark = spark.read.option('header','true').csv('test.csv')"
   ]
  },
  {
   "cell_type": "code",
   "execution_count": 8,
   "id": "67d19f90",
   "metadata": {},
   "outputs": [
    {
     "name": "stdout",
     "output_type": "stream",
     "text": [
      "+------+----+------+\n",
      "|Nombre|edad|Genero|\n",
      "+------+----+------+\n",
      "|  qweq|  34|     H|\n",
      "|qweqwe|  34|     M|\n",
      "|asdasd|  43|     H|\n",
      "|eeeeee|  12|     M|\n",
      "|aaaaaa|  76|     H|\n",
      "+------+----+------+\n",
      "\n"
     ]
    }
   ],
   "source": [
    "df_pyspark.show()"
   ]
  },
  {
   "cell_type": "code",
   "execution_count": 9,
   "id": "010b1ae7",
   "metadata": {},
   "outputs": [
    {
     "name": "stdout",
     "output_type": "stream",
     "text": [
      "root\n",
      " |-- Nombre: string (nullable = true)\n",
      " |-- edad: string (nullable = true)\n",
      " |-- Genero: string (nullable = true)\n",
      "\n"
     ]
    }
   ],
   "source": [
    "df_pyspark.printSchema()"
   ]
  },
  {
   "cell_type": "code",
   "execution_count": 10,
   "id": "df929fa8",
   "metadata": {},
   "outputs": [
    {
     "data": {
      "text/plain": [
       "['Nombre', 'edad', 'Genero']"
      ]
     },
     "execution_count": 10,
     "metadata": {},
     "output_type": "execute_result"
    }
   ],
   "source": [
    "df_pyspark.columns"
   ]
  },
  {
   "cell_type": "code",
   "execution_count": 15,
   "id": "d393aaa6",
   "metadata": {},
   "outputs": [
    {
     "name": "stdout",
     "output_type": "stream",
     "text": [
      "+------+\n",
      "|Nombre|\n",
      "+------+\n",
      "|  qweq|\n",
      "|qweqwe|\n",
      "|asdasd|\n",
      "|eeeeee|\n",
      "|aaaaaa|\n",
      "+------+\n",
      "\n"
     ]
    }
   ],
   "source": [
    "df_pyspark.select('Nombre').show()"
   ]
  },
  {
   "cell_type": "code",
   "execution_count": 20,
   "id": "5e58d90d",
   "metadata": {},
   "outputs": [],
   "source": [
    "df_pyspark_subdata = df_pyspark.select(['Nombre','Genero'])"
   ]
  },
  {
   "cell_type": "code",
   "execution_count": 21,
   "id": "cbb078d2",
   "metadata": {},
   "outputs": [
    {
     "name": "stdout",
     "output_type": "stream",
     "text": [
      "root\n",
      " |-- Nombre: string (nullable = true)\n",
      " |-- Genero: string (nullable = true)\n",
      "\n"
     ]
    }
   ],
   "source": [
    "df_pyspark_subdata.printSchema()\n"
   ]
  },
  {
   "cell_type": "code",
   "execution_count": 23,
   "id": "d9522bd4",
   "metadata": {},
   "outputs": [
    {
     "name": "stdout",
     "output_type": "stream",
     "text": [
      "+------+------+\n",
      "|Nombre|Genero|\n",
      "+------+------+\n",
      "|  qweq|     H|\n",
      "|qweqwe|     M|\n",
      "|asdasd|     H|\n",
      "|eeeeee|     M|\n",
      "|aaaaaa|     H|\n",
      "+------+------+\n",
      "\n"
     ]
    }
   ],
   "source": [
    "df_pyspark_subdata.show()"
   ]
  },
  {
   "cell_type": "code",
   "execution_count": 56,
   "id": "67551a04",
   "metadata": {},
   "outputs": [
    {
     "ename": "AttributeError",
     "evalue": "'NoneType' object has no attribute 'dtypes'",
     "output_type": "error",
     "traceback": [
      "\u001b[1;31m---------------------------------------------------------------------------\u001b[0m",
      "\u001b[1;31mAttributeError\u001b[0m                            Traceback (most recent call last)",
      "Input \u001b[1;32mIn [56]\u001b[0m, in \u001b[0;36m<cell line: 1>\u001b[1;34m()\u001b[0m\n\u001b[1;32m----> 1\u001b[0m \u001b[43mdf_pyspark\u001b[49m\u001b[38;5;241;43m.\u001b[39;49m\u001b[43mdtypes\u001b[49m\n",
      "\u001b[1;31mAttributeError\u001b[0m: 'NoneType' object has no attribute 'dtypes'"
     ]
    }
   ],
   "source": [
    "df_pyspark.dtypes"
   ]
  },
  {
   "cell_type": "code",
   "execution_count": 55,
   "id": "b03910f6",
   "metadata": {},
   "outputs": [
    {
     "ename": "AttributeError",
     "evalue": "'NoneType' object has no attribute 'describe'",
     "output_type": "error",
     "traceback": [
      "\u001b[1;31m---------------------------------------------------------------------------\u001b[0m",
      "\u001b[1;31mAttributeError\u001b[0m                            Traceback (most recent call last)",
      "Input \u001b[1;32mIn [55]\u001b[0m, in \u001b[0;36m<cell line: 1>\u001b[1;34m()\u001b[0m\n\u001b[1;32m----> 1\u001b[0m \u001b[43mdf_pyspark\u001b[49m\u001b[38;5;241;43m.\u001b[39;49m\u001b[43mdescribe\u001b[49m()\u001b[38;5;241m.\u001b[39mshow()\n",
      "\u001b[1;31mAttributeError\u001b[0m: 'NoneType' object has no attribute 'describe'"
     ]
    }
   ],
   "source": [
    "df_pyspark.describe().show()"
   ]
  },
  {
   "cell_type": "code",
   "execution_count": 33,
   "id": "160c808d",
   "metadata": {},
   "outputs": [],
   "source": [
    "df_pyspark = df_pyspark.withColumn('Edad en Meses',df_pyspark['Edad']*12)"
   ]
  },
  {
   "cell_type": "code",
   "execution_count": 51,
   "id": "5ae25afe",
   "metadata": {},
   "outputs": [
    {
     "ename": "AttributeError",
     "evalue": "'NoneType' object has no attribute 'show'",
     "output_type": "error",
     "traceback": [
      "\u001b[1;31m---------------------------------------------------------------------------\u001b[0m",
      "\u001b[1;31mAttributeError\u001b[0m                            Traceback (most recent call last)",
      "Input \u001b[1;32mIn [51]\u001b[0m, in \u001b[0;36m<cell line: 1>\u001b[1;34m()\u001b[0m\n\u001b[1;32m----> 1\u001b[0m \u001b[43mdf_pyspark\u001b[49m\u001b[38;5;241;43m.\u001b[39;49m\u001b[43mshow\u001b[49m()\n",
      "\u001b[1;31mAttributeError\u001b[0m: 'NoneType' object has no attribute 'show'"
     ]
    }
   ],
   "source": [
    "df_pyspark.show()"
   ]
  },
  {
   "cell_type": "code",
   "execution_count": 54,
   "id": "98567b83",
   "metadata": {},
   "outputs": [
    {
     "ename": "AttributeError",
     "evalue": "'NoneType' object has no attribute 'drop'",
     "output_type": "error",
     "traceback": [
      "\u001b[1;31m---------------------------------------------------------------------------\u001b[0m",
      "\u001b[1;31mAttributeError\u001b[0m                            Traceback (most recent call last)",
      "Input \u001b[1;32mIn [54]\u001b[0m, in \u001b[0;36m<cell line: 1>\u001b[1;34m()\u001b[0m\n\u001b[1;32m----> 1\u001b[0m df_pyspark \u001b[38;5;241m=\u001b[39m \u001b[43mdf_pyspark\u001b[49m\u001b[38;5;241;43m.\u001b[39;49m\u001b[43mdrop\u001b[49m(\u001b[38;5;124m'\u001b[39m\u001b[38;5;124mEdad en Meses\u001b[39m\u001b[38;5;124m'\u001b[39m)\n",
      "\u001b[1;31mAttributeError\u001b[0m: 'NoneType' object has no attribute 'drop'"
     ]
    }
   ],
   "source": [
    "df_pyspark = df_pyspark.drop('Edad en Meses')"
   ]
  },
  {
   "cell_type": "code",
   "execution_count": 52,
   "id": "ff2b7659",
   "metadata": {},
   "outputs": [
    {
     "ename": "AttributeError",
     "evalue": "'NoneType' object has no attribute 'show'",
     "output_type": "error",
     "traceback": [
      "\u001b[1;31m---------------------------------------------------------------------------\u001b[0m",
      "\u001b[1;31mAttributeError\u001b[0m                            Traceback (most recent call last)",
      "Input \u001b[1;32mIn [52]\u001b[0m, in \u001b[0;36m<cell line: 1>\u001b[1;34m()\u001b[0m\n\u001b[1;32m----> 1\u001b[0m \u001b[43mdf_pyspark\u001b[49m\u001b[38;5;241;43m.\u001b[39;49m\u001b[43mshow\u001b[49m()\n",
      "\u001b[1;31mAttributeError\u001b[0m: 'NoneType' object has no attribute 'show'"
     ]
    }
   ],
   "source": [
    "df_pyspark.show()"
   ]
  },
  {
   "cell_type": "code",
   "execution_count": 53,
   "id": "58f1dbc8",
   "metadata": {},
   "outputs": [
    {
     "ename": "AttributeError",
     "evalue": "'NoneType' object has no attribute 'withColumnRenamed'",
     "output_type": "error",
     "traceback": [
      "\u001b[1;31m---------------------------------------------------------------------------\u001b[0m",
      "\u001b[1;31mAttributeError\u001b[0m                            Traceback (most recent call last)",
      "Input \u001b[1;32mIn [53]\u001b[0m, in \u001b[0;36m<cell line: 1>\u001b[1;34m()\u001b[0m\n\u001b[1;32m----> 1\u001b[0m df_pyspark \u001b[38;5;241m=\u001b[39m \u001b[43mdf_pyspark\u001b[49m\u001b[38;5;241;43m.\u001b[39;49m\u001b[43mwithColumnRenamed\u001b[49m(\u001b[38;5;124m'\u001b[39m\u001b[38;5;124mGenero\u001b[39m\u001b[38;5;124m'\u001b[39m,\u001b[38;5;124m'\u001b[39m\u001b[38;5;124mSexo\u001b[39m\u001b[38;5;124m'\u001b[39m)\n",
      "\u001b[1;31mAttributeError\u001b[0m: 'NoneType' object has no attribute 'withColumnRenamed'"
     ]
    }
   ],
   "source": [
    "df_pyspark = df_pyspark.withColumnRenamed('Genero','Sexo')"
   ]
  },
  {
   "cell_type": "code",
   "execution_count": 3,
   "id": "53076795",
   "metadata": {},
   "outputs": [],
   "source": [
    "df_pyspark = spark.read.csv('test.csv',header=True,inferSchema=True)"
   ]
  },
  {
   "cell_type": "code",
   "execution_count": 4,
   "id": "73e5954d",
   "metadata": {},
   "outputs": [
    {
     "name": "stdout",
     "output_type": "stream",
     "text": [
      "root\n",
      " |-- Nombre: string (nullable = true)\n",
      " |-- edad: integer (nullable = true)\n",
      " |-- Genero: string (nullable = true)\n",
      " |-- Salario: integer (nullable = true)\n",
      "\n"
     ]
    }
   ],
   "source": [
    "df_pyspark.printSchema()"
   ]
  },
  {
   "cell_type": "code",
   "execution_count": 5,
   "id": "f83d0e6c",
   "metadata": {},
   "outputs": [
    {
     "name": "stdout",
     "output_type": "stream",
     "text": [
      "+------+----+------+-------+\n",
      "|Nombre|edad|Genero|Salario|\n",
      "+------+----+------+-------+\n",
      "|  qweq|  34|     H|   5000|\n",
      "|qweqwe|null|     M|   1331|\n",
      "|asdasd|null|     H|    609|\n",
      "|asdasd|  12|     M|  12312|\n",
      "|  null|  76|     H|  15000|\n",
      "|llllll|  12|     h|  12312|\n",
      "+------+----+------+-------+\n",
      "\n"
     ]
    }
   ],
   "source": [
    "df_pyspark.show()"
   ]
  },
  {
   "cell_type": "code",
   "execution_count": 7,
   "id": "e02373fe",
   "metadata": {},
   "outputs": [
    {
     "name": "stdout",
     "output_type": "stream",
     "text": [
      "+------+----+------+-------+\n",
      "|Nombre|edad|Genero|Salario|\n",
      "+------+----+------+-------+\n",
      "|  qweq|  34|     H|   5000|\n",
      "|asdasd|  12|     M|  12312|\n",
      "|llllll|  12|     h|  12312|\n",
      "+------+----+------+-------+\n",
      "\n"
     ]
    }
   ],
   "source": [
    "df_pyspark.na.drop().show()"
   ]
  },
  {
   "cell_type": "code",
   "execution_count": 13,
   "id": "43c7ba15",
   "metadata": {},
   "outputs": [],
   "source": [
    "df_pyspark_DropNA_all=df_pyspark.na.drop(how='all')"
   ]
  },
  {
   "cell_type": "code",
   "execution_count": 16,
   "id": "aca2dfa5",
   "metadata": {},
   "outputs": [
    {
     "name": "stdout",
     "output_type": "stream",
     "text": [
      "+------+----+------+-------+\n",
      "|Nombre|edad|Genero|Salario|\n",
      "+------+----+------+-------+\n",
      "|  qweq|  34|     H|   5000|\n",
      "|qweqwe|null|     M|   1331|\n",
      "|asdasd|null|     H|    609|\n",
      "|asdasd|  12|     M|  12312|\n",
      "|  null|  76|     H|  15000|\n",
      "|llllll|  12|     h|  12312|\n",
      "+------+----+------+-------+\n",
      "\n"
     ]
    }
   ],
   "source": [
    "df_pyspark_DropNA_all.show()"
   ]
  },
  {
   "cell_type": "code",
   "execution_count": 14,
   "id": "db923964",
   "metadata": {},
   "outputs": [],
   "source": [
    "df_pyspark_DropNA_any= df_pyspark.na.drop(how='any')"
   ]
  },
  {
   "cell_type": "code",
   "execution_count": 15,
   "id": "cf6a1071",
   "metadata": {},
   "outputs": [
    {
     "name": "stdout",
     "output_type": "stream",
     "text": [
      "+------+----+------+-------+\n",
      "|Nombre|edad|Genero|Salario|\n",
      "+------+----+------+-------+\n",
      "|  qweq|  34|     H|   5000|\n",
      "|asdasd|  12|     M|  12312|\n",
      "|llllll|  12|     h|  12312|\n",
      "+------+----+------+-------+\n",
      "\n"
     ]
    }
   ],
   "source": [
    "df_pyspark_DropNA_any.show()"
   ]
  },
  {
   "cell_type": "code",
   "execution_count": 17,
   "id": "0e60bb6a",
   "metadata": {},
   "outputs": [
    {
     "name": "stdout",
     "output_type": "stream",
     "text": [
      "+------+----+------+-------+\n",
      "|Nombre|edad|Genero|Salario|\n",
      "+------+----+------+-------+\n",
      "|  qweq|  34|     H|   5000|\n",
      "|qweqwe|null|     M|   1331|\n",
      "|asdasd|null|     H|    609|\n",
      "|asdasd|  12|     M|  12312|\n",
      "|  null|  76|     H|  15000|\n",
      "|llllll|  12|     h|  12312|\n",
      "+------+----+------+-------+\n",
      "\n"
     ]
    }
   ],
   "source": [
    "df_pyspark.show()"
   ]
  },
  {
   "cell_type": "code",
   "execution_count": 25,
   "id": "8c3c8254",
   "metadata": {},
   "outputs": [
    {
     "name": "stdout",
     "output_type": "stream",
     "text": [
      "+------+----+------+-------+\n",
      "|Nombre|edad|Genero|Salario|\n",
      "+------+----+------+-------+\n",
      "|  qweq|  34|     H|   5000|\n",
      "|qweqwe|null|     M|   1331|\n",
      "|asdasd|null|     H|    609|\n",
      "|asdasd|  12|     M|  12312|\n",
      "|  null|  76|     H|  15000|\n",
      "|llllll|  12|     h|  12312|\n",
      "+------+----+------+-------+\n",
      "\n"
     ]
    }
   ],
   "source": [
    "df_pyspark.na.drop(how='any',thresh=3).show()"
   ]
  },
  {
   "cell_type": "code",
   "execution_count": 26,
   "id": "b807dae8",
   "metadata": {},
   "outputs": [
    {
     "name": "stdout",
     "output_type": "stream",
     "text": [
      "+------+----+------+-------+\n",
      "|Nombre|edad|Genero|Salario|\n",
      "+------+----+------+-------+\n",
      "|  qweq|  34|     H|   5000|\n",
      "|asdasd|  12|     M|  12312|\n",
      "|  null|  76|     H|  15000|\n",
      "|llllll|  12|     h|  12312|\n",
      "+------+----+------+-------+\n",
      "\n"
     ]
    }
   ],
   "source": [
    "df_pyspark.na.drop(how='any',subset=['edad']).show()"
   ]
  },
  {
   "cell_type": "code",
   "execution_count": 27,
   "id": "87eceb41",
   "metadata": {},
   "outputs": [
    {
     "name": "stdout",
     "output_type": "stream",
     "text": [
      "+------+----+------+-------+\n",
      "|Nombre|edad|Genero|Salario|\n",
      "+------+----+------+-------+\n",
      "|  qweq|  34|     H|   5000|\n",
      "|qweqwe|   0|     M|   1331|\n",
      "|asdasd|   0|     H|    609|\n",
      "|asdasd|  12|     M|  12312|\n",
      "|  null|  76|     H|  15000|\n",
      "|llllll|  12|     h|  12312|\n",
      "+------+----+------+-------+\n",
      "\n"
     ]
    }
   ],
   "source": [
    "df_pyspark.na.fill(0).show()"
   ]
  },
  {
   "cell_type": "code",
   "execution_count": null,
   "id": "c077e104",
   "metadata": {},
   "outputs": [],
   "source": [
    "df_pyspark.na.fill('Mising Values').show()"
   ]
  },
  {
   "cell_type": "code",
   "execution_count": null,
   "id": "a2547608",
   "metadata": {},
   "outputs": [],
   "source": [
    "df_pyspark.na.fill(0,['Salario']).show()"
   ]
  },
  {
   "cell_type": "code",
   "execution_count": null,
   "id": "43f86ef8",
   "metadata": {},
   "outputs": [],
   "source": [
    "df_pyspark.na.fill(0,['edad','Salario']).show()"
   ]
  },
  {
   "cell_type": "code",
   "execution_count": null,
   "id": "c38fc3b6",
   "metadata": {},
   "outputs": [],
   "source": []
  },
  {
   "cell_type": "code",
   "execution_count": null,
   "id": "d02dfd07",
   "metadata": {},
   "outputs": [],
   "source": []
  },
  {
   "cell_type": "code",
   "execution_count": null,
   "id": "efef1fde",
   "metadata": {},
   "outputs": [],
   "source": []
  },
  {
   "cell_type": "code",
   "execution_count": null,
   "id": "7c4d5957",
   "metadata": {},
   "outputs": [],
   "source": []
  },
  {
   "cell_type": "code",
   "execution_count": null,
   "id": "58a3f7e4",
   "metadata": {},
   "outputs": [],
   "source": []
  },
  {
   "cell_type": "code",
   "execution_count": null,
   "id": "4430540a",
   "metadata": {},
   "outputs": [],
   "source": []
  }
 ],
 "metadata": {
  "kernelspec": {
   "display_name": "Python 3 (ipykernel)",
   "language": "python",
   "name": "python3"
  },
  "language_info": {
   "codemirror_mode": {
    "name": "ipython",
    "version": 3
   },
   "file_extension": ".py",
   "mimetype": "text/x-python",
   "name": "python",
   "nbconvert_exporter": "python",
   "pygments_lexer": "ipython3",
   "version": "3.9.0"
  }
 },
 "nbformat": 4,
 "nbformat_minor": 5
}
