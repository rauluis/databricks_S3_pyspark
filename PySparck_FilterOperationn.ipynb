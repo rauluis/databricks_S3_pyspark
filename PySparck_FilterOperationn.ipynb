{
 "cells": [
  {
   "cell_type": "markdown",
   "id": "24de276e",
   "metadata": {},
   "source": [
    "## Filter y groupBY"
   ]
  },
  {
   "cell_type": "code",
   "execution_count": 1,
   "id": "bcfea839",
   "metadata": {},
   "outputs": [],
   "source": [
    "from pyspark.sql import SparkSession"
   ]
  },
  {
   "cell_type": "code",
   "execution_count": 2,
   "id": "94745edc",
   "metadata": {},
   "outputs": [],
   "source": [
    "spark = SparkSession.builder.appName(\"Dataframe\").getOrCreate()"
   ]
  },
  {
   "cell_type": "code",
   "execution_count": 4,
   "id": "97649ae7",
   "metadata": {},
   "outputs": [],
   "source": [
    "df_pySpark = spark.read.csv(\"prueba2.csv\",header= True,inferSchema = True)"
   ]
  },
  {
   "cell_type": "code",
   "execution_count": 5,
   "id": "2386722b",
   "metadata": {},
   "outputs": [
    {
     "name": "stdout",
     "output_type": "stream",
     "text": [
      "+------+----+------+-------+\n",
      "|Nombre|Edad|Genero|Salario|\n",
      "+------+----+------+-------+\n",
      "|  Pepe|  12|     H|   5000|\n",
      "| Angel|  40|     M|   8000|\n",
      "| Elisa|  31|     M|  22000|\n",
      "|  Jose|  34|     H|  10000|\n",
      "| Mario|  23|     H|   9000|\n",
      "| Josue|  23|     H|  15000|\n",
      "+------+----+------+-------+\n",
      "\n"
     ]
    }
   ],
   "source": [
    "df_pySpark.show()"
   ]
  },
  {
   "cell_type": "markdown",
   "id": "b8ab7e25",
   "metadata": {},
   "source": [
    "## Filter operation"
   ]
  },
  {
   "cell_type": "code",
   "execution_count": 10,
   "id": "c1945774",
   "metadata": {},
   "outputs": [
    {
     "name": "stdout",
     "output_type": "stream",
     "text": [
      "+------+----+------+-------+\n",
      "|Nombre|Edad|Genero|Salario|\n",
      "+------+----+------+-------+\n",
      "|  Pepe|  12|     H|   5000|\n",
      "| Angel|  40|     M|   8000|\n",
      "|  Jose|  34|     H|  10000|\n",
      "| Mario|  23|     H|   9000|\n",
      "+------+----+------+-------+\n",
      "\n"
     ]
    }
   ],
   "source": [
    "### Filtrar por salario> menor o igual que \n",
    "df_pySpark.filter(\"Salario<=10000\").show()"
   ]
  },
  {
   "cell_type": "code",
   "execution_count": 12,
   "id": "49c28e52",
   "metadata": {},
   "outputs": [
    {
     "name": "stdout",
     "output_type": "stream",
     "text": [
      "+------+----+\n",
      "|Nombre|Edad|\n",
      "+------+----+\n",
      "|  Pepe|  12|\n",
      "| Angel|  40|\n",
      "|  Jose|  34|\n",
      "| Mario|  23|\n",
      "+------+----+\n",
      "\n"
     ]
    }
   ],
   "source": [
    "### Filtrar por salario> menor o igual que 1000, pero mostrando solo nombre y edad\n",
    "df_pySpark.filter(\"Salario<=10000\").select([\"Nombre\",\"Edad\"]).show()"
   ]
  },
  {
   "cell_type": "code",
   "execution_count": 16,
   "id": "60234280",
   "metadata": {},
   "outputs": [
    {
     "name": "stdout",
     "output_type": "stream",
     "text": [
      "+------+----+\n",
      "|Nombre|Edad|\n",
      "+------+----+\n",
      "|  Pepe|  12|\n",
      "| Angel|  40|\n",
      "|  Jose|  34|\n",
      "| Mario|  23|\n",
      "+------+----+\n",
      "\n"
     ]
    }
   ],
   "source": [
    "df_pyFilter = df_pySpark.filter(\"Salario<=10000\")\n",
    "df_pyFilter.select([\"Nombre\",\"Edad\"]).show()"
   ]
  },
  {
   "cell_type": "code",
   "execution_count": 17,
   "id": "7eb2ed7b",
   "metadata": {},
   "outputs": [
    {
     "name": "stdout",
     "output_type": "stream",
     "text": [
      "+------+----+------+-------+\n",
      "|Nombre|Edad|Genero|Salario|\n",
      "+------+----+------+-------+\n",
      "|  Jose|  34|     H|  10000|\n",
      "| Josue|  23|     H|  15000|\n",
      "+------+----+------+-------+\n",
      "\n"
     ]
    }
   ],
   "source": [
    "df_pySpark.filter((df_pySpark[\"Salario\"]>=10000)& (df_pySpark[\"Salario\"]<=20000)).show()"
   ]
  },
  {
   "cell_type": "code",
   "execution_count": 19,
   "id": "ff0cd52a",
   "metadata": {},
   "outputs": [
    {
     "name": "stdout",
     "output_type": "stream",
     "text": [
      "+------+-------+\n",
      "|Nombre|Salario|\n",
      "+------+-------+\n",
      "|  Pepe|   5000|\n",
      "| Angel|   8000|\n",
      "| Elisa|  22000|\n",
      "|  Jose|  10000|\n",
      "| Mario|   9000|\n",
      "| Josue|  15000|\n",
      "+------+-------+\n",
      "\n"
     ]
    }
   ],
   "source": [
    "df_pySpark.filter((df_pySpark[\"Salario\"]>=10000)& (df_pySpark[\"Salario\"]<=20000)).select([\"Nombre\",\"Salario\"]).show()"
   ]
  },
  {
   "cell_type": "code",
   "execution_count": 27,
   "id": "939062e1",
   "metadata": {},
   "outputs": [
    {
     "name": "stdout",
     "output_type": "stream",
     "text": [
      "+------+-------+\n",
      "|Nombre|Salario|\n",
      "+------+-------+\n",
      "|  Pepe|   5000|\n",
      "| Angel|   8000|\n",
      "| Elisa|  22000|\n",
      "|  Jose|  10000|\n",
      "| Mario|   9000|\n",
      "| Josue|  15000|\n",
      "+------+-------+\n",
      "\n"
     ]
    }
   ],
   "source": [
    "df_pySpark.filter((df_pySpark[\"Salario\"]>=10000)| (df_pySpark[\"Salario\"]<=20000)).select([\"Nombre\",\"Salario\"]).show()"
   ]
  },
  {
   "cell_type": "code",
   "execution_count": 26,
   "id": "4f6d1735",
   "metadata": {},
   "outputs": [
    {
     "name": "stdout",
     "output_type": "stream",
     "text": [
      "+------+----+------+-------+\n",
      "|Nombre|Edad|Genero|Salario|\n",
      "+------+----+------+-------+\n",
      "|  Pepe|  12|     H|   5000|\n",
      "+------+----+------+-------+\n",
      "\n"
     ]
    }
   ],
   "source": [
    "df_pySpark.filter(~((df_pySpark[\"Salario\"]>=8000)|(df_pySpark[\"Salario\"]>=20000))).show()"
   ]
  },
  {
   "cell_type": "markdown",
   "id": "0514900f",
   "metadata": {},
   "source": [
    "## GrupBy"
   ]
  },
  {
   "cell_type": "code",
   "execution_count": 30,
   "id": "2398d6a7",
   "metadata": {},
   "outputs": [],
   "source": [
    "df_pySpark2 = spark.read.csv(\"prueba3.csv\",header= True,inferSchema = True)"
   ]
  },
  {
   "cell_type": "code",
   "execution_count": 31,
   "id": "4c8bd45c",
   "metadata": {},
   "outputs": [
    {
     "name": "stdout",
     "output_type": "stream",
     "text": [
      "+------+----------------+-------+\n",
      "|Nombre|    Departamento|Salario|\n",
      "+------+----------------+-------+\n",
      "|  Paco|             Iot|  20000|\n",
      "| Angel|              Bi|  21000|\n",
      "| Elisa|    Data Science|  22000|\n",
      "|  Jose|    Data Science|  19000|\n",
      "| Mario|Data Engeneering|  25000|\n",
      "| Jesus|Data Engeneering|  24000|\n",
      "| Elisa|Data Engeneering|  22000|\n",
      "| Segio|              Bi|  20000|\n",
      "|  Paco|              Bi|  21000|\n",
      "| Segio|             Iot|  18000|\n",
      "+------+----------------+-------+\n",
      "\n"
     ]
    }
   ],
   "source": [
    "df_pySpark2.show()\n"
   ]
  },
  {
   "cell_type": "code",
   "execution_count": 32,
   "id": "9b10e9cc",
   "metadata": {},
   "outputs": [
    {
     "name": "stdout",
     "output_type": "stream",
     "text": [
      "root\n",
      " |-- Nombre: string (nullable = true)\n",
      " |-- Departamento: string (nullable = true)\n",
      " |-- Salario: integer (nullable = true)\n",
      "\n"
     ]
    }
   ],
   "source": [
    "df_pySpark2.printSchema()"
   ]
  },
  {
   "cell_type": "code",
   "execution_count": 33,
   "id": "c5cf158a",
   "metadata": {},
   "outputs": [
    {
     "name": "stdout",
     "output_type": "stream",
     "text": [
      "+------+------------+\n",
      "|Nombre|sum(Salario)|\n",
      "+------+------------+\n",
      "|  Paco|       41000|\n",
      "| Segio|       38000|\n",
      "|  Jose|       19000|\n",
      "| Angel|       21000|\n",
      "| Jesus|       24000|\n",
      "| Elisa|       44000|\n",
      "| Mario|       25000|\n",
      "+------+------------+\n",
      "\n"
     ]
    }
   ],
   "source": [
    "## GroupBy\n",
    "## Encontrar la suma de salarios por nombre\n",
    "\n",
    "df_pySpark2.groupBy(\"Nombre\").sum().show()"
   ]
  },
  {
   "cell_type": "code",
   "execution_count": 34,
   "id": "cc34878a",
   "metadata": {},
   "outputs": [
    {
     "name": "stdout",
     "output_type": "stream",
     "text": [
      "+----------------+------------+\n",
      "|    Departamento|sum(Salario)|\n",
      "+----------------+------------+\n",
      "|             Iot|       38000|\n",
      "|Data Engeneering|       71000|\n",
      "|    Data Science|       41000|\n",
      "|              Bi|       62000|\n",
      "+----------------+------------+\n",
      "\n"
     ]
    }
   ],
   "source": [
    "df_pySpark2.groupBy(\"Departamento\").sum().show()"
   ]
  },
  {
   "cell_type": "code",
   "execution_count": 35,
   "id": "9c73cf97",
   "metadata": {},
   "outputs": [
    {
     "name": "stdout",
     "output_type": "stream",
     "text": [
      "+----------------+------------------+\n",
      "|    Departamento|      avg(Salario)|\n",
      "+----------------+------------------+\n",
      "|             Iot|           19000.0|\n",
      "|Data Engeneering|23666.666666666668|\n",
      "|    Data Science|           20500.0|\n",
      "|              Bi|20666.666666666668|\n",
      "+----------------+------------------+\n",
      "\n"
     ]
    }
   ],
   "source": [
    "df_pySpark2.groupBy(\"Departamento\").mean().show()"
   ]
  },
  {
   "cell_type": "code",
   "execution_count": 36,
   "id": "fd41c2ff",
   "metadata": {},
   "outputs": [
    {
     "name": "stdout",
     "output_type": "stream",
     "text": [
      "+----------------+-----+\n",
      "|    Departamento|count|\n",
      "+----------------+-----+\n",
      "|             Iot|    2|\n",
      "|Data Engeneering|    3|\n",
      "|    Data Science|    2|\n",
      "|              Bi|    3|\n",
      "+----------------+-----+\n",
      "\n"
     ]
    }
   ],
   "source": [
    "df_pySpark2.groupBy(\"Departamento\").count().show()"
   ]
  },
  {
   "cell_type": "code",
   "execution_count": 37,
   "id": "7981d65b",
   "metadata": {},
   "outputs": [
    {
     "name": "stdout",
     "output_type": "stream",
     "text": [
      "+----------------+------------+\n",
      "|    Departamento|max(Salario)|\n",
      "+----------------+------------+\n",
      "|             Iot|       20000|\n",
      "|Data Engeneering|       25000|\n",
      "|    Data Science|       22000|\n",
      "|              Bi|       21000|\n",
      "+----------------+------------+\n",
      "\n"
     ]
    }
   ],
   "source": [
    "df_pySpark2.groupBy(\"Departamento\").max().show()"
   ]
  },
  {
   "cell_type": "code",
   "execution_count": 38,
   "id": "1a5e3368",
   "metadata": {},
   "outputs": [],
   "source": [
    "df_pySpark2 = spark.read.csv(\"Prueba4.csv\",header= True,inferSchema = True)"
   ]
  },
  {
   "cell_type": "code",
   "execution_count": 39,
   "id": "fd5b7948",
   "metadata": {},
   "outputs": [
    {
     "name": "stdout",
     "output_type": "stream",
     "text": [
      "+------+----------------+-------+-------------+\n",
      "|Nombre|    Departamento|Salario|Pago por Hora|\n",
      "+------+----------------+-------+-------------+\n",
      "|  Paco|             Iot|  20000|          100|\n",
      "| Angel|              Bi|  21000|          150|\n",
      "| Elisa|    Data Science|  22000|          200|\n",
      "|  Jose|    Data Science|  19000|          150|\n",
      "| Mario|Data Engeneering|  25000|          250|\n",
      "| Jesus|Data Engeneering|  24000|          300|\n",
      "| Elisa|Data Engeneering|  22000|          200|\n",
      "| Segio|              Bi|  20000|          150|\n",
      "|  Paco|              Bi|  21000|          150|\n",
      "| Segio|             Iot|  18000|          100|\n",
      "+------+----------------+-------+-------------+\n",
      "\n"
     ]
    }
   ],
   "source": [
    "df_pySpark2.show()"
   ]
  },
  {
   "cell_type": "code",
   "execution_count": 41,
   "id": "26470392",
   "metadata": {},
   "outputs": [
    {
     "name": "stdout",
     "output_type": "stream",
     "text": [
      "root\n",
      " |-- Nombre: string (nullable = true)\n",
      " |-- Departamento: string (nullable = true)\n",
      " |-- Salario: integer (nullable = true)\n",
      " |-- Pago por Hora: integer (nullable = true)\n",
      "\n"
     ]
    }
   ],
   "source": [
    "df_pySpark2.printSchema()"
   ]
  },
  {
   "cell_type": "code",
   "execution_count": 44,
   "id": "21f98346",
   "metadata": {},
   "outputs": [],
   "source": [
    "df_pySpark_Max= df_pySpark2.groupBy(\"Nombre\").max()"
   ]
  },
  {
   "cell_type": "code",
   "execution_count": 45,
   "id": "0bdee93d",
   "metadata": {},
   "outputs": [
    {
     "name": "stdout",
     "output_type": "stream",
     "text": [
      "+------+------------+------------------+\n",
      "|Nombre|max(Salario)|max(Pago por Hora)|\n",
      "+------+------------+------------------+\n",
      "|  Paco|       21000|               150|\n",
      "| Segio|       20000|               150|\n",
      "|  Jose|       19000|               150|\n",
      "| Angel|       21000|               150|\n",
      "| Jesus|       24000|               300|\n",
      "| Elisa|       22000|               200|\n",
      "| Mario|       25000|               250|\n",
      "+------+------------+------------------+\n",
      "\n"
     ]
    }
   ],
   "source": [
    "df_pySpark_Max.show()"
   ]
  },
  {
   "cell_type": "code",
   "execution_count": 47,
   "id": "f8f522f2",
   "metadata": {},
   "outputs": [
    {
     "name": "stdout",
     "output_type": "stream",
     "text": [
      "+------+------------------+\n",
      "|Nombre|max(Pago por Hora)|\n",
      "+------+------------------+\n",
      "|  Paco|               150|\n",
      "| Segio|               150|\n",
      "|  Jose|               150|\n",
      "| Angel|               150|\n",
      "| Jesus|               300|\n",
      "| Elisa|               200|\n",
      "| Mario|               250|\n",
      "+------+------------------+\n",
      "\n"
     ]
    }
   ],
   "source": [
    "df_pySpark_Max.select(\"Nombre\",\"max(Pago por Hora)\").show()"
   ]
  },
  {
   "cell_type": "code",
   "execution_count": null,
   "id": "11c5baa1",
   "metadata": {},
   "outputs": [],
   "source": []
  },
  {
   "cell_type": "code",
   "execution_count": null,
   "id": "a7951536",
   "metadata": {},
   "outputs": [],
   "source": []
  }
 ],
 "metadata": {
  "kernelspec": {
   "display_name": "Python 3 (ipykernel)",
   "language": "python",
   "name": "python3"
  },
  "language_info": {
   "codemirror_mode": {
    "name": "ipython",
    "version": 3
   },
   "file_extension": ".py",
   "mimetype": "text/x-python",
   "name": "python",
   "nbconvert_exporter": "python",
   "pygments_lexer": "ipython3",
   "version": "3.9.0"
  }
 },
 "nbformat": 4,
 "nbformat_minor": 5
}
