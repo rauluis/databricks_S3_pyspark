{
 "cells": [
  {
   "cell_type": "code",
   "execution_count": 2,
   "id": "332fda80",
   "metadata": {},
   "outputs": [],
   "source": [
    "from pyspark.sql import SparkSession\n",
    "from pyspark import SparkFiles"
   ]
  },
  {
   "cell_type": "code",
   "execution_count": 3,
   "id": "9741eaa5",
   "metadata": {},
   "outputs": [],
   "source": [
    "spark = SparkSession.builder.appName('ML_example').getOrCreate()"
   ]
  },
  {
   "cell_type": "code",
   "execution_count": 9,
   "id": "b498319f",
   "metadata": {},
   "outputs": [],
   "source": [
    "training = spark.read.csv(\"test_ML.csv\", header=True, inferSchema= True)"
   ]
  },
  {
   "cell_type": "code",
   "execution_count": 10,
   "id": "de35e234",
   "metadata": {},
   "outputs": [
    {
     "name": "stdout",
     "output_type": "stream",
     "text": [
      "+------+----+-----------+-------+\n",
      "|Nombre|Edad|Experiencia|Salario|\n",
      "+------+----+-----------+-------+\n",
      "|  Pepe|  48|         10|  50000|\n",
      "| Angel|  28|          8|  42000|\n",
      "| Elisa|  12|          6|  30000|\n",
      "|  Jose|  30|          5|  23000|\n",
      "| Mario|  23|          3|  15300|\n",
      "| Jesus|  12|          1|  12000|\n",
      "+------+----+-----------+-------+\n",
      "\n"
     ]
    }
   ],
   "source": [
    "training.show()"
   ]
  },
  {
   "cell_type": "code",
   "execution_count": 11,
   "id": "c72b47aa",
   "metadata": {},
   "outputs": [
    {
     "name": "stdout",
     "output_type": "stream",
     "text": [
      "root\n",
      " |-- Nombre: string (nullable = true)\n",
      " |-- Edad: integer (nullable = true)\n",
      " |-- Experiencia: integer (nullable = true)\n",
      " |-- Salario: integer (nullable = true)\n",
      "\n"
     ]
    }
   ],
   "source": [
    "training.printSchema()"
   ]
  },
  {
   "cell_type": "code",
   "execution_count": 15,
   "id": "80423890",
   "metadata": {},
   "outputs": [],
   "source": [
    "from pyspark.ml.feature import VectorAssembler\n",
    "feature_assembler = VectorAssembler(inputCols=[\"Edad\",\"Experiencia\"], outputCol = \"feature_vector\")"
   ]
  },
  {
   "cell_type": "code",
   "execution_count": 16,
   "id": "c593faa1",
   "metadata": {},
   "outputs": [],
   "source": [
    "output = feature_assembler.transform(training)"
   ]
  },
  {
   "cell_type": "code",
   "execution_count": 17,
   "id": "bc521723",
   "metadata": {},
   "outputs": [
    {
     "name": "stdout",
     "output_type": "stream",
     "text": [
      "+------+----+-----------+-------+--------------+\n",
      "|Nombre|Edad|Experiencia|Salario|feature_vector|\n",
      "+------+----+-----------+-------+--------------+\n",
      "|  Pepe|  48|         10|  50000|   [48.0,10.0]|\n",
      "| Angel|  28|          8|  42000|    [28.0,8.0]|\n",
      "| Elisa|  12|          6|  30000|    [12.0,6.0]|\n",
      "|  Jose|  30|          5|  23000|    [30.0,5.0]|\n",
      "| Mario|  23|          3|  15300|    [23.0,3.0]|\n",
      "| Jesus|  12|          1|  12000|    [12.0,1.0]|\n",
      "+------+----+-----------+-------+--------------+\n",
      "\n"
     ]
    }
   ],
   "source": [
    "output.show()"
   ]
  },
  {
   "cell_type": "code",
   "execution_count": 19,
   "id": "c804ccee",
   "metadata": {},
   "outputs": [
    {
     "data": {
      "text/plain": [
       "['Nombre', 'Edad', 'Experiencia', 'Salario', 'feature_vector']"
      ]
     },
     "execution_count": 19,
     "metadata": {},
     "output_type": "execute_result"
    }
   ],
   "source": [
    "output.columns"
   ]
  },
  {
   "cell_type": "code",
   "execution_count": 20,
   "id": "156ae9f9",
   "metadata": {},
   "outputs": [],
   "source": [
    "dataset = output.select(\"feature_vector\",\"Salario\")"
   ]
  },
  {
   "cell_type": "code",
   "execution_count": 21,
   "id": "85da0e68",
   "metadata": {},
   "outputs": [
    {
     "name": "stdout",
     "output_type": "stream",
     "text": [
      "+--------------+-------+\n",
      "|feature_vector|Salario|\n",
      "+--------------+-------+\n",
      "|   [48.0,10.0]|  50000|\n",
      "|    [28.0,8.0]|  42000|\n",
      "|    [12.0,6.0]|  30000|\n",
      "|    [30.0,5.0]|  23000|\n",
      "|    [23.0,3.0]|  15300|\n",
      "|    [12.0,1.0]|  12000|\n",
      "+--------------+-------+\n",
      "\n"
     ]
    }
   ],
   "source": [
    "dataset.show()"
   ]
  },
  {
   "cell_type": "code",
   "execution_count": 30,
   "id": "741f2f2f",
   "metadata": {},
   "outputs": [],
   "source": [
    "from pyspark.ml.regression import LinearRegression\n",
    "train_data,test_data = dataset.randomSplit([0.65,0.35])"
   ]
  },
  {
   "cell_type": "code",
   "execution_count": 31,
   "id": "3428a69e",
   "metadata": {},
   "outputs": [
    {
     "name": "stdout",
     "output_type": "stream",
     "text": [
      "+--------------+-------+\n",
      "|feature_vector|Salario|\n",
      "+--------------+-------+\n",
      "|    [12.0,1.0]|  12000|\n",
      "|    [23.0,3.0]|  15300|\n",
      "|    [30.0,5.0]|  23000|\n",
      "+--------------+-------+\n",
      "\n"
     ]
    }
   ],
   "source": [
    "train_data.show()"
   ]
  },
  {
   "cell_type": "code",
   "execution_count": 32,
   "id": "dfb63ee2",
   "metadata": {},
   "outputs": [
    {
     "name": "stdout",
     "output_type": "stream",
     "text": [
      "+--------------+-------+\n",
      "|feature_vector|Salario|\n",
      "+--------------+-------+\n",
      "|    [12.0,6.0]|  30000|\n",
      "|    [28.0,8.0]|  42000|\n",
      "|   [48.0,10.0]|  50000|\n",
      "+--------------+-------+\n",
      "\n"
     ]
    }
   ],
   "source": [
    "test_data.show()"
   ]
  },
  {
   "cell_type": "code",
   "execution_count": 38,
   "id": "16a9481c",
   "metadata": {},
   "outputs": [],
   "source": [
    "regressor = LinearRegression(featuresCol=\"feature_vector\",labelCol=\"Salario\")\n",
    "regressor = regressor.fit(train_data)"
   ]
  },
  {
   "cell_type": "code",
   "execution_count": 40,
   "id": "eae37fca",
   "metadata": {},
   "outputs": [],
   "source": [
    "pred_results = regressor.evaluate(test_data)"
   ]
  },
  {
   "cell_type": "code",
   "execution_count": 41,
   "id": "634f1863",
   "metadata": {},
   "outputs": [
    {
     "name": "stderr",
     "output_type": "stream",
     "text": [
      "C:\\Users\\Rizo\\.virtualenvs\\env-YoQODTt_\\lib\\site-packages\\pyspark\\sql\\context.py:125: FutureWarning: Deprecated in 3.0.0. Use SparkSession.builder.getOrCreate() instead.\n",
      "  warnings.warn(\n"
     ]
    },
    {
     "name": "stdout",
     "output_type": "stream",
     "text": [
      "+--------------+-------+------------------+\n",
      "|feature_vector|Salario|        prediction|\n",
      "+--------------+-------+------------------+\n",
      "|    [12.0,6.0]|  30000|50499.999999996115|\n",
      "|    [28.0,8.0]|  42000| 48299.99999999729|\n",
      "|   [48.0,10.0]|  50000|41699.999999999156|\n",
      "+--------------+-------+------------------+\n",
      "\n"
     ]
    }
   ],
   "source": [
    "pred_results.predictions.show()"
   ]
  },
  {
   "cell_type": "code",
   "execution_count": 42,
   "id": "ffbe55e2",
   "metadata": {},
   "outputs": [
    {
     "data": {
      "text/plain": [
       "(11699.999999998085, 176276666.66660684)"
      ]
     },
     "execution_count": 42,
     "metadata": {},
     "output_type": "execute_result"
    }
   ],
   "source": [
    "pred_results.meanAbsoluteError,pred_results.meanSquaredError"
   ]
  },
  {
   "cell_type": "code",
   "execution_count": null,
   "id": "3d5d65bd",
   "metadata": {},
   "outputs": [],
   "source": []
  },
  {
   "cell_type": "code",
   "execution_count": null,
   "id": "c903f6f9",
   "metadata": {},
   "outputs": [],
   "source": []
  },
  {
   "cell_type": "code",
   "execution_count": null,
   "id": "24a315c8",
   "metadata": {},
   "outputs": [],
   "source": []
  },
  {
   "cell_type": "code",
   "execution_count": null,
   "id": "acd13ae5",
   "metadata": {},
   "outputs": [],
   "source": []
  },
  {
   "cell_type": "code",
   "execution_count": null,
   "id": "d845d0c8",
   "metadata": {},
   "outputs": [],
   "source": []
  }
 ],
 "metadata": {
  "kernelspec": {
   "display_name": "Python 3 (ipykernel)",
   "language": "python",
   "name": "python3"
  },
  "language_info": {
   "codemirror_mode": {
    "name": "ipython",
    "version": 3
   },
   "file_extension": ".py",
   "mimetype": "text/x-python",
   "name": "python",
   "nbconvert_exporter": "python",
   "pygments_lexer": "ipython3",
   "version": "3.9.0"
  }
 },
 "nbformat": 4,
 "nbformat_minor": 5
}
